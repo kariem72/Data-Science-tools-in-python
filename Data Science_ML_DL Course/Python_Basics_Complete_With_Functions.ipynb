{
 "cells": [
  {
   "cell_type": "markdown",
   "id": "b140c9a1",
   "metadata": {},
   "source": [
    "## 🟢 المتغيرات وأنواع البيانات (Variables & Data Types)\n",
    "المتغيرات هي الطريقة اللي بنخزن بيها بيانات في البايثون، وزي ما بنسمي صندوق ونحط فيه حاجة.\n",
    "\n",
    "```python\n",
    "x = 5               # عدد صحيح (Integer)\n",
    "name = \"Kareem\"     # نص (String)\n",
    "pi = 3.14           # رقم عشري (Float)\n",
    "is_happy = True     # قيمة منطقية (Boolean: True/False)\n",
    "```\n"
   ]
  },
  {
   "cell_type": "markdown",
   "id": "c593a3a7",
   "metadata": {},
   "source": [
    "## 🧮 الـ Operators (العوامل الحسابية والمنطقية)\n",
    "### العمليات الحسابية:\n",
    "```python\n",
    "+  # جمع\n",
    "-  # طرح\n",
    "*  # ضرب\n",
    "/  # قسمة\n",
    "// # قسمة بدون كسور\n",
    "%  # باقي القسمة\n",
    "** # أس (رفع للقوة)\n",
    "```\n",
    "\n",
    "### العمليات المقارنة:\n",
    "```python\n",
    "==  # يساوي\n",
    "!=  # لا يساوي\n",
    ">   # أكبر من\n",
    "<   # أصغر من\n",
    ">=  # أكبر من أو يساوي\n",
    "<=  # أصغر من أو يساوي\n",
    "```\n",
    "\n",
    "### العمليات المنطقية:\n",
    "```python\n",
    "and  # لازم الشرطين يكونوا صح\n",
    "or   # واحد من الشرطين على الأقل يكون صح\n",
    "not  # عكس القيمة (True تبقى False والعكس)\n",
    "```\n"
   ]
  },
  {
   "cell_type": "markdown",
   "id": "a67d371a",
   "metadata": {},
   "source": [
    "## 🔁 الشروط (if - elif - else)\n",
    "بنستخدم الشروط علشان ننفذ كود معين لما يتحقق شرط معين:\n",
    "\n",
    "```python\n",
    "x = 10\n",
    "\n",
    "if x > 5:\n",
    "    print(\"x أكبر من 5\")\n",
    "elif x == 5:\n",
    "    print(\"x بيساوي 5\")\n",
    "else:\n",
    "    print(\"x أصغر من 5\")\n",
    "```\n"
   ]
  },
  {
   "cell_type": "markdown",
   "id": "10069623",
   "metadata": {},
   "source": [
    "## 🔄 الحلقات (Loops)\n",
    "### 🔁 for loop - بنكرر حاجة عدد معين من المرات\n",
    "```python\n",
    "for i in range(5):\n",
    "    print(i)  # هتطبع من 0 لحد 4\n",
    "```\n",
    "\n",
    "### 🔁 while loop - بنكرر لحد شرط معين ما يتحقق\n",
    "```python\n",
    "x = 0\n",
    "while x < 5:\n",
    "    print(x)\n",
    "    x += 1  # نزود x كل مرة\n",
    "```\n"
   ]
  },
  {
   "cell_type": "markdown",
   "id": "a52a8cd6",
   "metadata": {},
   "source": [
    "## 🧰 حاجات تانية مفيدة:\n",
    "### input - علشان تاخد بيانات من المستخدم\n",
    "```python\n",
    "name = input(\"Enter your name \")\n",
    "print(\"Welcome\", name)\n",
    "```\n",
    "\n",
    "### type - علشان تعرف نوع المتغير\n",
    "```python\n",
    "x = 3.5\n",
    "print(type(x))  # <class 'float'>\n",
    "```\n",
    "\n",
    "### casting - تحويل نوع البيانات\n",
    "```python\n",
    "x = int(\"5\")     # تحويل من نص لعدد\n",
    "y = str(10)      # تحويل من عدد لنص\n",
    "z = float(\"2.7\") # تحويل من نص لرقم عشري\n",
    "```\n"
   ]
  },
  {
   "cell_type": "code",
   "execution_count": 1,
   "id": "ee708448-60b8-43b1-a94b-dc6e98dd0729",
   "metadata": {},
   "outputs": [
    {
     "name": "stdout",
     "output_type": "stream",
     "text": [
      "you are allowed\n"
     ]
    }
   ],
   "source": [
    "age = 18\n",
    "if age>=18:\n",
    "    print('you are allowed')"
   ]
  },
  {
   "cell_type": "markdown",
   "id": "0ccdd3e2",
   "metadata": {},
   "source": [
    "# ✏️ شرح الكود:\n",
    "- شرط بيتنفذ لو تحقق.\n",
    "- بنطبع حاجة على الشاشة.\n"
   ]
  },
  {
   "cell_type": "code",
   "execution_count": 2,
   "id": "ae5fb4fd-302f-4615-9e38-a1b37b624641",
   "metadata": {},
   "outputs": [
    {
     "data": {
      "text/plain": [
       "True"
      ]
     },
     "execution_count": 2,
     "metadata": {},
     "output_type": "execute_result"
    }
   ],
   "source": [
    "age>=18"
   ]
  },
  {
   "cell_type": "code",
   "execution_count": 3,
   "id": "7b3dc008-2b2a-417a-a28b-b39b1fd721bc",
   "metadata": {},
   "outputs": [
    {
     "name": "stdout",
     "output_type": "stream",
     "text": [
      "you are a minor\n"
     ]
    }
   ],
   "source": [
    "age=16\n",
    "if age>=18:\n",
    "    print('you are eligible for voting')\n",
    "else:\n",
    "    print('you are a minor')"
   ]
  },
  {
   "cell_type": "markdown",
   "id": "4525348d",
   "metadata": {},
   "source": [
    "# ✏️ شرح الكود:\n",
    "- دي حلقة تكرار (loop).\n",
    "- شرط بيتنفذ لو تحقق.\n",
    "- بنطبع حاجة على الشاشة.\n"
   ]
  },
  {
   "cell_type": "code",
   "execution_count": 4,
   "id": "66c28369-110c-4223-b996-7abcb30e8eb5",
   "metadata": {},
   "outputs": [
    {
     "name": "stdout",
     "output_type": "stream",
     "text": [
      "you are an adult\n"
     ]
    }
   ],
   "source": [
    "age = 21\n",
    "if age<13:\n",
    "    print('you are too young')\n",
    "elif age<18:\n",
    "    print('you are a teenager')\n",
    "else:\n",
    "    print('you are an adult')"
   ]
  },
  {
   "cell_type": "markdown",
   "id": "5433e8b4",
   "metadata": {},
   "source": [
    "# ✏️ شرح الكود:\n",
    "- شرط بيتنفذ لو تحقق.\n",
    "- بنطبع حاجة على الشاشة.\n"
   ]
  },
  {
   "cell_type": "code",
   "execution_count": 5,
   "id": "4c26f124-c790-44c9-a708-4ec64d3e20a2",
   "metadata": {},
   "outputs": [
    {
     "name": "stdin",
     "output_type": "stream",
     "text": [
      "Enter the number 5\n"
     ]
    },
    {
     "name": "stdout",
     "output_type": "stream",
     "text": [
      "the number is positive\n",
      "the number is odd\n"
     ]
    }
   ],
   "source": [
    "num = int(input('Enter the number'))\n",
    "if num>=0:\n",
    "    print('the number is positive')\n",
    "    if num%2==0:\n",
    "        print('the number is even')\n",
    "    else:\n",
    "        print('the number is odd')\n",
    "else:\n",
    "    print('the number is negative')"
   ]
  },
  {
   "cell_type": "markdown",
   "id": "814faf0d",
   "metadata": {},
   "source": [
    "# ✏️ شرح الكود:\n",
    "- بناخد مدخل من المستخدم.\n",
    "- شرط بيتنفذ لو تحقق.\n",
    "- بنطبع حاجة على الشاشة.\n"
   ]
  },
  {
   "cell_type": "code",
   "execution_count": 6,
   "id": "7f2b576b-0654-4141-8431-fb6c789194c8",
   "metadata": {},
   "outputs": [
    {
     "name": "stdin",
     "output_type": "stream",
     "text": [
      "Enter the year 2\n"
     ]
    },
    {
     "name": "stdout",
     "output_type": "stream",
     "text": [
      "This is not a leap year\n"
     ]
    }
   ],
   "source": [
    "year = int(input('Enter the year'))\n",
    "if year%4==0:\n",
    "    if year%100==0:\n",
    "        if year%400==0:\n",
    "              print('This is a leap year')  \n",
    "        else:\n",
    "            print('This is not a leap year')\n",
    "    else:\n",
    "        print('This is a leap year')\n",
    "else:\n",
    "    print('This is not a leap year')\n",
    " "
   ]
  },
  {
   "cell_type": "markdown",
   "id": "b387fec4",
   "metadata": {},
   "source": [
    "# ✏️ شرح الكود:\n",
    "- بناخد مدخل من المستخدم.\n",
    "- شرط بيتنفذ لو تحقق.\n",
    "- بنطبع حاجة على الشاشة.\n"
   ]
  },
  {
   "cell_type": "code",
   "execution_count": 7,
   "id": "42e9669e-6735-4e91-b37c-321dcdc8b481",
   "metadata": {},
   "outputs": [
    {
     "name": "stdin",
     "output_type": "stream",
     "text": [
      "Enter number 1  2\n",
      "Enter number 2  2\n",
      "Enter operation +,-,*,/ +\n"
     ]
    },
    {
     "name": "stdout",
     "output_type": "stream",
     "text": [
      "4\n"
     ]
    }
   ],
   "source": [
    "num1 = int(input('Enter number 1 '))\n",
    "num2 = int(input('Enter number 2 '))\n",
    "operation = str(input('Enter operation +,-,*,/'))\n",
    "if operation == '+':\n",
    "    result = num1 + num2\n",
    "elif operation == '-':\n",
    "    result = num1 - num2\n",
    "elif operation == '*':\n",
    "    result = num1 * num2\n",
    "elif operation == '/':\n",
    "    result = num1 / num2\n",
    "else:\n",
    "    print('invalid number')\n",
    "print(result)"
   ]
  },
  {
   "cell_type": "markdown",
   "id": "46b268b2",
   "metadata": {},
   "source": [
    "# ✏️ شرح الكود:\n",
    "- بناخد مدخل من المستخدم.\n",
    "- شرط بيتنفذ لو تحقق.\n",
    "- بنطبع حاجة على الشاشة.\n"
   ]
  },
  {
   "cell_type": "code",
   "execution_count": 8,
   "id": "65b41892-1f1c-4ab2-8299-1a9f6404f85a",
   "metadata": {},
   "outputs": [
    {
     "data": {
      "text/plain": [
       "range(0, 5)"
      ]
     },
     "execution_count": 8,
     "metadata": {},
     "output_type": "execute_result"
    }
   ],
   "source": [
    "range(5)"
   ]
  },
  {
   "cell_type": "code",
   "execution_count": 9,
   "id": "27dca666-24a1-484a-a4b0-e2116c372475",
   "metadata": {},
   "outputs": [
    {
     "name": "stdout",
     "output_type": "stream",
     "text": [
      "0\n",
      "1\n",
      "2\n",
      "3\n",
      "4\n"
     ]
    }
   ],
   "source": [
    "for i in range(5):\n",
    "    print(i)"
   ]
  },
  {
   "cell_type": "markdown",
   "id": "82cda55e",
   "metadata": {},
   "source": [
    "# ✏️ شرح الكود:\n",
    "- دي حلقة تكرار (loop).\n",
    "- بنطبع حاجة على الشاشة.\n"
   ]
  },
  {
   "cell_type": "code",
   "execution_count": 10,
   "id": "70a03559-4566-4270-923a-1934b7068d7f",
   "metadata": {},
   "outputs": [
    {
     "name": "stdout",
     "output_type": "stream",
     "text": [
      "10\n",
      "8\n",
      "6\n",
      "4\n",
      "2\n"
     ]
    }
   ],
   "source": [
    "for i in range(10,1,-2):\n",
    "    print(i)"
   ]
  },
  {
   "cell_type": "markdown",
   "id": "002075fa",
   "metadata": {},
   "source": [
    "# ✏️ شرح الكود:\n",
    "- دي حلقة تكرار (loop).\n",
    "- بنطبع حاجة على الشاشة.\n"
   ]
  },
  {
   "cell_type": "code",
   "execution_count": 11,
   "id": "c9d1737f-9451-4bb6-b8a8-1e2b37ef0ad3",
   "metadata": {},
   "outputs": [
    {
     "name": "stdout",
     "output_type": "stream",
     "text": [
      "K\n",
      "a\n",
      "r\n",
      "i\n",
      "e\n",
      "m\n",
      " \n",
      "M\n",
      "o\n",
      "h\n",
      "a\n",
      "m\n",
      "e\n",
      "d\n"
     ]
    }
   ],
   "source": [
    "str = 'Kariem Mohamed'\n",
    "for i in str:\n",
    "    print(i)"
   ]
  },
  {
   "cell_type": "markdown",
   "id": "bc638dd2",
   "metadata": {},
   "source": [
    "# ✏️ شرح الكود:\n",
    "- دي حلقة تكرار (loop).\n",
    "- بنطبع حاجة على الشاشة.\n"
   ]
  },
  {
   "cell_type": "code",
   "execution_count": 12,
   "id": "2c2f9bc4-629d-4afc-bde0-0f98a7716aad",
   "metadata": {},
   "outputs": [
    {
     "name": "stdout",
     "output_type": "stream",
     "text": [
      "0\n",
      "1\n",
      "2\n",
      "3\n",
      "4\n"
     ]
    }
   ],
   "source": [
    "count = 0\n",
    "while count<5:\n",
    "    print(count)\n",
    "    count = count+1"
   ]
  },
  {
   "cell_type": "markdown",
   "id": "6a8427c0",
   "metadata": {},
   "source": [
    "# ✏️ شرح الكود:\n",
    "- دي حلقة تكرار (loop).\n",
    "- بنطبع حاجة على الشاشة.\n"
   ]
  },
  {
   "cell_type": "code",
   "execution_count": 14,
   "id": "f2a2954a-427c-468d-a57d-f0c04487adeb",
   "metadata": {},
   "outputs": [
    {
     "name": "stdout",
     "output_type": "stream",
     "text": [
      "0\n"
     ]
    }
   ],
   "source": [
    "count = 0\n",
    "while count %2==0:\n",
    "    print(count)\n",
    "    count = count +1"
   ]
  },
  {
   "cell_type": "markdown",
   "id": "d4f2b3c4",
   "metadata": {},
   "source": [
    "# ✏️ شرح الكود:\n",
    "- دي حلقة تكرار (loop).\n",
    "- بنطبع حاجة على الشاشة.\n"
   ]
  },
  {
   "cell_type": "code",
   "execution_count": 15,
   "id": "80b170fb-1b22-4d75-9cf6-48dadb2da3d1",
   "metadata": {},
   "outputs": [
    {
     "name": "stdout",
     "output_type": "stream",
     "text": [
      "0\n",
      "1\n",
      "2\n",
      "3\n",
      "4\n"
     ]
    }
   ],
   "source": [
    "for i in range(10):\n",
    "    if i ==5:\n",
    "        break\n",
    "    print(i)"
   ]
  },
  {
   "cell_type": "markdown",
   "id": "a3dcc01c",
   "metadata": {},
   "source": [
    "# ✏️ شرح الكود:\n",
    "- دي حلقة تكرار (loop).\n",
    "- شرط بيتنفذ لو تحقق.\n",
    "- بنطبع حاجة على الشاشة.\n"
   ]
  },
  {
   "cell_type": "code",
   "execution_count": 16,
   "id": "6eba1489-263f-4416-b448-04902480d2a3",
   "metadata": {},
   "outputs": [
    {
     "name": "stdout",
     "output_type": "stream",
     "text": [
      "1\n",
      "3\n",
      "5\n",
      "7\n",
      "9\n"
     ]
    }
   ],
   "source": [
    "for i in range(10):\n",
    "    if i%2==0:\n",
    "        continue\n",
    "    print(i)"
   ]
  },
  {
   "cell_type": "markdown",
   "id": "3d7a1a06",
   "metadata": {},
   "source": [
    "# ✏️ شرح الكود:\n",
    "- دي حلقة تكرار (loop).\n",
    "- شرط بيتنفذ لو تحقق.\n",
    "- بنطبع حاجة على الشاشة.\n"
   ]
  },
  {
   "cell_type": "code",
   "execution_count": 17,
   "id": "2fd89dfe-da80-4aae-bd14-4f8a5fae484d",
   "metadata": {},
   "outputs": [
    {
     "name": "stdout",
     "output_type": "stream",
     "text": [
      "0\n",
      "1\n",
      "2\n",
      "3\n",
      "4\n"
     ]
    }
   ],
   "source": [
    "for i in range(5):\n",
    "    if i ==3:\n",
    "        pass\n",
    "    print(i)"
   ]
  },
  {
   "cell_type": "markdown",
   "id": "f563bd11",
   "metadata": {},
   "source": [
    "# ✏️ شرح الكود:\n",
    "- دي حلقة تكرار (loop).\n",
    "- شرط بيتنفذ لو تحقق.\n",
    "- بنطبع حاجة على الشاشة.\n"
   ]
  },
  {
   "cell_type": "code",
   "execution_count": 19,
   "id": "1846958b-5907-4c24-b58b-1127caea10cf",
   "metadata": {},
   "outputs": [
    {
     "name": "stdout",
     "output_type": "stream",
     "text": [
      "i:0 and j:0\n",
      "i:0 and j:1\n",
      "i:1 and j:0\n",
      "i:1 and j:1\n",
      "i:2 and j:0\n",
      "i:2 and j:1\n"
     ]
    }
   ],
   "source": [
    "for i in range(3):\n",
    "    for j in range(2):\n",
    "        print(f'i:{i} and j:{j}')"
   ]
  },
  {
   "cell_type": "markdown",
   "id": "64f056a7",
   "metadata": {},
   "source": [
    "# ✏️ شرح الكود:\n",
    "- دي حلقة تكرار (loop).\n",
    "- بنطبع حاجة على الشاشة.\n"
   ]
  },
  {
   "cell_type": "code",
   "execution_count": 20,
   "id": "56c65f17-6543-4d79-a731-9825f1fd6509",
   "metadata": {},
   "outputs": [
    {
     "name": "stdout",
     "output_type": "stream",
     "text": [
      "Sum of first 10 natural number is  55\n"
     ]
    }
   ],
   "source": [
    "n = 10\n",
    "sum = 0\n",
    "count = 1\n",
    "while count<=n:\n",
    "    sum+=count\n",
    "    count+=1\n",
    "print('Sum of first 10 natural number is ',sum)"
   ]
  },
  {
   "cell_type": "markdown",
   "id": "68a9c295",
   "metadata": {},
   "source": [
    "# ✏️ شرح الكود:\n",
    "- دي حلقة تكرار (loop).\n",
    "- بنطبع حاجة على الشاشة.\n"
   ]
  },
  {
   "cell_type": "code",
   "execution_count": 22,
   "id": "0083d7e2-a6d2-4aa3-a0d7-29c78479a5eb",
   "metadata": {},
   "outputs": [
    {
     "name": "stdout",
     "output_type": "stream",
     "text": [
      "55\n"
     ]
    }
   ],
   "source": [
    "n = 10\n",
    "sum = 0\n",
    "for i in range(11):\n",
    "    sum+=i\n",
    "print(sum)"
   ]
  },
  {
   "cell_type": "markdown",
   "id": "d0d73dc8",
   "metadata": {},
   "source": [
    "# ✏️ شرح الكود:\n",
    "- دي حلقة تكرار (loop).\n",
    "- بنطبع حاجة على الشاشة.\n"
   ]
  },
  {
   "cell_type": "code",
   "execution_count": 23,
   "id": "fc9a5aae-5884-4c25-9706-f486a038da21",
   "metadata": {},
   "outputs": [
    {
     "name": "stdout",
     "output_type": "stream",
     "text": [
      "2\n",
      "3\n",
      "5\n",
      "7\n",
      "11\n",
      "13\n",
      "17\n",
      "19\n",
      "23\n",
      "29\n",
      "31\n",
      "37\n",
      "41\n",
      "43\n",
      "47\n",
      "53\n",
      "59\n",
      "61\n",
      "67\n",
      "71\n",
      "73\n",
      "79\n",
      "83\n",
      "89\n",
      "97\n"
     ]
    }
   ],
   "source": [
    "for num in range(1,101):\n",
    "    if num>1:\n",
    "        for i in range(2,num):\n",
    "            if num%i==0:\n",
    "                break\n",
    "        else:\n",
    "            print(num)"
   ]
  },
  {
   "cell_type": "markdown",
   "id": "11964eb4",
   "metadata": {},
   "source": [
    "# ✏️ شرح الكود:\n",
    "- دي حلقة تكرار (loop).\n",
    "- شرط بيتنفذ لو تحقق.\n",
    "- بنطبع حاجة على الشاشة.\n"
   ]
  },
  {
   "cell_type": "markdown",
   "id": "133ed446",
   "metadata": {},
   "source": [
    "## 🧠 الدوال (Functions)\n",
    "الدوال بتخلينا نعيد استخدام الكود بسهولة. بنستخدم `def` علشان نعرّف دالة.\n",
    "\n",
    "```python\n",
    "def say_hello():\n",
    "    print(\"أهلاً!\")\n",
    "\n",
    "say_hello()\n",
    "```\n"
   ]
  },
  {
   "cell_type": "markdown",
   "id": "16f4fa74",
   "metadata": {},
   "source": [
    "### 🧮 دوال بوسائط (Arguments)\n",
    "```python\n",
    "def greet(name):\n",
    "    print(\"Welcome\", name)\n",
    "\n",
    "greet(\"Kariem\")\n",
    "```\n"
   ]
  },
  {
   "cell_type": "markdown",
   "id": "fea56142",
   "metadata": {},
   "source": [
    "### 🔁 دوال بترجع قيمة (return)\n",
    "```python\n",
    "def add(a, b):\n",
    "    return a + b\n",
    "\n",
    "result = add(3, 5)\n",
    "print(result)\n",
    "```\n"
   ]
  },
  {
   "cell_type": "code",
   "execution_count": 4,
   "id": "483e5ee4-8c7d-4a9c-bfea-8479ede8a4ed",
   "metadata": {},
   "outputs": [],
   "source": [
    "def func(par):\n",
    "    return expression"
   ]
  },
  {
   "cell_type": "markdown",
   "id": "7e7f928c",
   "metadata": {},
   "source": [
    "# ✏️ شرح الكود:\n",
    "- هنا بنعرف دالة باستخدام `def`.\n",
    "- الدالة بترجع قيمة باستخدام `return`.\n"
   ]
  },
  {
   "cell_type": "code",
   "execution_count": 5,
   "id": "67c80b98-ac55-430d-ad16-b0bc6a478a0f",
   "metadata": {},
   "outputs": [
    {
     "name": "stdout",
     "output_type": "stream",
     "text": [
      "even\n"
     ]
    }
   ],
   "source": [
    "num = 24\n",
    "if num%2==0:\n",
    "    print('even')\n",
    "else:\n",
    "    print('odd')"
   ]
  },
  {
   "cell_type": "markdown",
   "id": "7826eb81",
   "metadata": {},
   "source": [
    "# ✏️ شرح الكود:\n",
    "- شرط بيتنفذ لو تحقق.\n",
    "- بنطبع حاجة على الشاشة.\n"
   ]
  },
  {
   "cell_type": "code",
   "execution_count": 6,
   "id": "ced5d446-d13a-44da-8365-1fcbde7c328b",
   "metadata": {},
   "outputs": [
    {
     "name": "stdout",
     "output_type": "stream",
     "text": [
      "odd\n"
     ]
    }
   ],
   "source": [
    "def evenorodd(num):\n",
    "    if num%2==0:\n",
    "        print('even')\n",
    "    else:\n",
    "        print('odd')\n",
    "evenorodd(5)"
   ]
  },
  {
   "cell_type": "markdown",
   "id": "7243fcc2",
   "metadata": {},
   "source": [
    "# ✏️ شرح الكود:\n",
    "- هنا بنعرف دالة باستخدام `def`.\n",
    "- شرط بيتنفذ لو تحقق.\n",
    "- بنطبع حاجة على الشاشة.\n"
   ]
  },
  {
   "cell_type": "code",
   "execution_count": 8,
   "id": "8357993c-f9b9-4f59-8d6c-d9e4140b6d96",
   "metadata": {},
   "outputs": [
    {
     "name": "stdout",
     "output_type": "stream",
     "text": [
      "6\n"
     ]
    }
   ],
   "source": [
    "def add(a,b):\n",
    "    return a + b \n",
    "result = add(2,4)\n",
    "print(result)"
   ]
  },
  {
   "cell_type": "markdown",
   "id": "3be5f1dd",
   "metadata": {},
   "source": [
    "# ✏️ شرح الكود:\n",
    "- هنا بنعرف دالة باستخدام `def`.\n",
    "- الدالة بترجع قيمة باستخدام `return`.\n",
    "- بنطبع حاجة على الشاشة.\n"
   ]
  },
  {
   "cell_type": "code",
   "execution_count": 10,
   "id": "52129010-788b-49de-9408-0b4496db1d21",
   "metadata": {},
   "outputs": [
    {
     "name": "stdout",
     "output_type": "stream",
     "text": [
      "Hello Kariem\n"
     ]
    }
   ],
   "source": [
    "def greet(name):\n",
    "    print(f'Hello {name}')\n",
    "greet('Kariem')"
   ]
  },
  {
   "cell_type": "markdown",
   "id": "e59be106",
   "metadata": {},
   "source": [
    "# ✏️ شرح الكود:\n",
    "- هنا بنعرف دالة باستخدام `def`.\n",
    "- بنطبع حاجة على الشاشة.\n"
   ]
  },
  {
   "cell_type": "code",
   "execution_count": 14,
   "id": "17bce663-725b-4cee-ae6a-ac9d22b7bda8",
   "metadata": {},
   "outputs": [
    {
     "name": "stdout",
     "output_type": "stream",
     "text": [
      "1\n",
      "2\n",
      "3\n",
      "4\n",
      "5\n",
      "6\n",
      "7\n",
      "8\n",
      "kariem\n"
     ]
    }
   ],
   "source": [
    "def print_numbers(*args):\n",
    "    for number in args:\n",
    "        print(number)\n",
    "print_numbers(1,2,3,4,5,6,7,8,'kariem')"
   ]
  },
  {
   "cell_type": "markdown",
   "id": "19998148",
   "metadata": {},
   "source": [
    "# ✏️ شرح الكود:\n",
    "- هنا بنعرف دالة باستخدام `def`.\n",
    "- دي حلقة تكرار (loop).\n",
    "- بنطبع حاجة على الشاشة.\n"
   ]
  },
  {
   "cell_type": "code",
   "execution_count": 25,
   "id": "2f85f6d1-251b-4738-af12-8f96f365d9af",
   "metadata": {},
   "outputs": [
    {
     "name": "stdout",
     "output_type": "stream",
     "text": [
      " positional arument :1\n",
      " positional arument :2\n",
      " positional arument :3\n",
      " positional arument :4\n",
      " positional arument :kariem\n",
      "name:kariem\n",
      "age:21\n",
      "country:Egypt\n"
     ]
    }
   ],
   "source": [
    "def print_details(*args,**kwargs):\n",
    "    for val in args:\n",
    "         print(f' positional arument :{val}')\n",
    "    for key,value in kwargs.items():\n",
    "        print(f'{key}:{value}')\n",
    "print_details(1,2,3,4,'kariem',name='kariem',age='21',country='Egypt')"
   ]
  },
  {
   "cell_type": "markdown",
   "id": "f565bc61",
   "metadata": {},
   "source": [
    "# ✏️ شرح الكود:\n",
    "- هنا بنعرف دالة باستخدام `def`.\n",
    "- دي حلقة تكرار (loop).\n",
    "- بنطبع حاجة على الشاشة.\n"
   ]
  },
  {
   "cell_type": "code",
   "execution_count": 26,
   "id": "ffab37e4-d2a2-4aad-84c5-d1b934b5ba03",
   "metadata": {},
   "outputs": [
    {
     "data": {
      "text/plain": [
       "6"
      ]
     },
     "execution_count": 26,
     "metadata": {},
     "output_type": "execute_result"
    }
   ],
   "source": [
    "def multiply(a,b):\n",
    "    return a*b\n",
    "multiply(2,3)"
   ]
  },
  {
   "cell_type": "markdown",
   "id": "11e8f6f0",
   "metadata": {},
   "source": [
    "# ✏️ شرح الكود:\n",
    "- هنا بنعرف دالة باستخدام `def`.\n",
    "- الدالة بترجع قيمة باستخدام `return`.\n"
   ]
  },
  {
   "cell_type": "code",
   "execution_count": 27,
   "id": "96ed11b2-c396-499f-9f1b-facaa11ed1da",
   "metadata": {},
   "outputs": [
    {
     "name": "stdout",
     "output_type": "stream",
     "text": [
      "77.0\n",
      "25.0\n"
     ]
    }
   ],
   "source": [
    "def convert_temp(temp,unit):\n",
    "    if unit=='c':\n",
    "        return temp *9/5 + 32\n",
    "    elif unit =='f':\n",
    "        return (temp-32)*5/9\n",
    "    else:\n",
    "        return None\n",
    "print(convert_temp(25,'c'))\n",
    "print(convert_temp(77,'f'))"
   ]
  },
  {
   "cell_type": "markdown",
   "id": "7af6200c",
   "metadata": {},
   "source": [
    "# ✏️ شرح الكود:\n",
    "- هنا بنعرف دالة باستخدام `def`.\n",
    "- الدالة بترجع قيمة باستخدام `return`.\n",
    "- شرط بيتنفذ لو تحقق.\n",
    "- بنطبع حاجة على الشاشة.\n"
   ]
  },
  {
   "cell_type": "code",
   "execution_count": 33,
   "id": "883e733a-a2f4-4ed6-83e3-4dcb52e35919",
   "metadata": {},
   "outputs": [
    {
     "name": "stdout",
     "output_type": "stream",
     "text": [
      "True\n"
     ]
    }
   ],
   "source": [
    "def is_strong_password(password):\n",
    "    if len(password)<8:\n",
    "        return False\n",
    "    if not any(char.isdigit() for char in password):\n",
    "        return False\n",
    "    if not any(char.islower() for char in password):\n",
    "        return False\n",
    "    if not any(char.isupper() for char in password):\n",
    "        return False\n",
    "    if not any(char in '!\"£$%^&*()_+' for char in password):\n",
    "        return False\n",
    "    return True\n",
    "result = is_strong_password('Kariem74255555!#$')\n",
    "print(result)"
   ]
  },
  {
   "cell_type": "markdown",
   "id": "2fe7a03b",
   "metadata": {},
   "source": [
    "# ✏️ شرح الكود:\n",
    "- هنا بنعرف دالة باستخدام `def`.\n",
    "- الدالة بترجع قيمة باستخدام `return`.\n",
    "- دي حلقة تكرار (loop).\n",
    "- شرط بيتنفذ لو تحقق.\n",
    "- بنطبع حاجة على الشاشة.\n"
   ]
  },
  {
   "cell_type": "code",
   "execution_count": 34,
   "id": "669213be-01ac-49c3-a87c-3fb9995e13e8",
   "metadata": {},
   "outputs": [
    {
     "name": "stdout",
     "output_type": "stream",
     "text": [
      "120\n"
     ]
    }
   ],
   "source": [
    "def factorial(n):\n",
    "    if n == 0:\n",
    "        return 1\n",
    "    else:\n",
    "        return n*factorial(n-1)\n",
    "print(factorial(5))"
   ]
  },
  {
   "cell_type": "markdown",
   "id": "f3fb71a4",
   "metadata": {},
   "source": [
    "# ✏️ شرح الكود:\n",
    "- هنا بنعرف دالة باستخدام `def`.\n",
    "- الدالة بترجع قيمة باستخدام `return`.\n",
    "- شرط بيتنفذ لو تحقق.\n",
    "- بنطبع حاجة على الشاشة.\n"
   ]
  },
  {
   "cell_type": "code",
   "execution_count": 36,
   "id": "dbab0b65-039f-4c16-b24a-08b1a75fa579",
   "metadata": {},
   "outputs": [
    {
     "data": {
      "text/plain": [
       "5"
      ]
     },
     "execution_count": 36,
     "metadata": {},
     "output_type": "execute_result"
    }
   ],
   "source": [
    "def addition(a,b):\n",
    "    return a+b\n",
    "addition(2,3)"
   ]
  },
  {
   "cell_type": "markdown",
   "id": "2ba3a988",
   "metadata": {},
   "source": [
    "# ✏️ شرح الكود:\n",
    "- هنا بنعرف دالة باستخدام `def`.\n",
    "- الدالة بترجع قيمة باستخدام `return`.\n"
   ]
  },
  {
   "cell_type": "code",
   "execution_count": 37,
   "id": "f974204f-a20e-43ea-90a8-9d87b12df4cf",
   "metadata": {},
   "outputs": [
    {
     "name": "stdout",
     "output_type": "stream",
     "text": [
      "6\n"
     ]
    }
   ],
   "source": [
    "addition = lambda a,b:a+b\n",
    "print(addition(2,4))"
   ]
  },
  {
   "cell_type": "markdown",
   "id": "e9d48828",
   "metadata": {},
   "source": [
    "# ✏️ شرح الكود:\n",
    "- بنطبع حاجة على الشاشة.\n"
   ]
  },
  {
   "cell_type": "code",
   "execution_count": 38,
   "id": "7c7ed3a8-e1a1-4eaa-8805-7da1f60e7125",
   "metadata": {},
   "outputs": [
    {
     "data": {
      "text/plain": [
       "True"
      ]
     },
     "execution_count": 38,
     "metadata": {},
     "output_type": "execute_result"
    }
   ],
   "source": [
    "def even(num):\n",
    "    if num%2==0:\n",
    "        return True\n",
    "even(24)"
   ]
  },
  {
   "cell_type": "markdown",
   "id": "ed30f015",
   "metadata": {},
   "source": [
    "# ✏️ شرح الكود:\n",
    "- هنا بنعرف دالة باستخدام `def`.\n",
    "- الدالة بترجع قيمة باستخدام `return`.\n",
    "- شرط بيتنفذ لو تحقق.\n"
   ]
  },
  {
   "cell_type": "code",
   "execution_count": 39,
   "id": "c4d9b2e1-53d1-4d72-9a34-33a1ae100d6b",
   "metadata": {},
   "outputs": [
    {
     "data": {
      "text/plain": [
       "True"
      ]
     },
     "execution_count": 39,
     "metadata": {},
     "output_type": "execute_result"
    }
   ],
   "source": [
    "even1 = lambda num:num%2==0\n",
    "even1(12)"
   ]
  },
  {
   "cell_type": "code",
   "execution_count": 41,
   "id": "7b8325c8-0b21-4db3-9d08-9f85c29c1334",
   "metadata": {},
   "outputs": [
    {
     "data": {
      "text/plain": [
       "6"
      ]
     },
     "execution_count": 41,
     "metadata": {},
     "output_type": "execute_result"
    }
   ],
   "source": [
    "def add(x,y,z):\n",
    "    return x+y+z\n",
    "add(1,2,3)"
   ]
  },
  {
   "cell_type": "markdown",
   "id": "3007927e",
   "metadata": {},
   "source": [
    "# ✏️ شرح الكود:\n",
    "- هنا بنعرف دالة باستخدام `def`.\n",
    "- الدالة بترجع قيمة باستخدام `return`.\n"
   ]
  },
  {
   "cell_type": "code",
   "execution_count": 42,
   "id": "52605d76-aa8b-4dcb-bce3-a38ed79309cd",
   "metadata": {},
   "outputs": [
    {
     "data": {
      "text/plain": [
       "15"
      ]
     },
     "execution_count": 42,
     "metadata": {},
     "output_type": "execute_result"
    }
   ],
   "source": [
    "add1 = lambda x,y,z:x+y+z\n",
    "add1(4,5,6)"
   ]
  },
  {
   "cell_type": "code",
   "execution_count": 43,
   "id": "d98951f8-740f-48a5-b0fe-0498d338ebf0",
   "metadata": {},
   "outputs": [
    {
     "data": {
      "text/plain": [
       "4"
      ]
     },
     "execution_count": 43,
     "metadata": {},
     "output_type": "execute_result"
    }
   ],
   "source": [
    "numbers = [1,2,3,4,5,6]\n",
    "def square(numbers):\n",
    "    return numbers**2\n",
    "square(2)"
   ]
  },
  {
   "cell_type": "markdown",
   "id": "05d28488",
   "metadata": {},
   "source": [
    "# ✏️ شرح الكود:\n",
    "- هنا بنعرف دالة باستخدام `def`.\n",
    "- الدالة بترجع قيمة باستخدام `return`.\n"
   ]
  },
  {
   "cell_type": "code",
   "execution_count": 45,
   "id": "5671db6b-f8a6-4040-b2ec-92035a39cc34",
   "metadata": {},
   "outputs": [
    {
     "data": {
      "text/plain": [
       "[1, 4, 9, 16, 25, 36]"
      ]
     },
     "execution_count": 45,
     "metadata": {},
     "output_type": "execute_result"
    }
   ],
   "source": [
    "list(map(lambda x:x**2,numbers))"
   ]
  },
  {
   "cell_type": "code",
   "execution_count": 46,
   "id": "37dd11ff-661b-497b-9e0e-61f0bf16aabe",
   "metadata": {},
   "outputs": [
    {
     "data": {
      "text/plain": [
       "4"
      ]
     },
     "execution_count": 46,
     "metadata": {},
     "output_type": "execute_result"
    }
   ],
   "source": [
    "def square(x):\n",
    "    return x*x\n",
    "square(2)"
   ]
  },
  {
   "cell_type": "markdown",
   "id": "5057759d",
   "metadata": {},
   "source": [
    "# ✏️ شرح الكود:\n",
    "- هنا بنعرف دالة باستخدام `def`.\n",
    "- الدالة بترجع قيمة باستخدام `return`.\n"
   ]
  },
  {
   "cell_type": "code",
   "execution_count": 49,
   "id": "fe96cb82-0f61-4729-8c37-1f41965b8b9b",
   "metadata": {},
   "outputs": [
    {
     "data": {
      "text/plain": [
       "[1, 4, 9, 16, 25, 36, 49, 64]"
      ]
     },
     "execution_count": 49,
     "metadata": {},
     "output_type": "execute_result"
    }
   ],
   "source": [
    "numbers = [1,2,3,4,5,6,7,8]\n",
    "list(map(square,numbers))"
   ]
  },
  {
   "cell_type": "code",
   "execution_count": 50,
   "id": "5efa1593-c7cf-4435-81e0-95e35ece193d",
   "metadata": {},
   "outputs": [
    {
     "data": {
      "text/plain": [
       "[1, 4, 9, 16, 25, 36, 49, 64]"
      ]
     },
     "execution_count": 50,
     "metadata": {},
     "output_type": "execute_result"
    }
   ],
   "source": [
    "numbers = [1,2,3,4,5,6,7,8]\n",
    "list(map(lambda x:x*x,numbers))"
   ]
  },
  {
   "cell_type": "code",
   "execution_count": 52,
   "id": "1752bb6c-7d99-418e-9720-267451b20cf4",
   "metadata": {},
   "outputs": [
    {
     "name": "stdout",
     "output_type": "stream",
     "text": [
      "[5, 7, 9]\n"
     ]
    }
   ],
   "source": [
    "number1 = [1,2,3]\n",
    "number2 = [4,5,6]\n",
    "added_numbers = list(map(lambda x,y:x+y,number1,number2))\n",
    "print(added_numbers)"
   ]
  },
  {
   "cell_type": "markdown",
   "id": "6e2a9e4c",
   "metadata": {},
   "source": [
    "# ✏️ شرح الكود:\n",
    "- بنطبع حاجة على الشاشة.\n"
   ]
  },
  {
   "cell_type": "code",
   "execution_count": 53,
   "id": "5b282c2a-1edc-4055-9864-9a2544574f9b",
   "metadata": {},
   "outputs": [
    {
     "name": "stdout",
     "output_type": "stream",
     "text": [
      "['APPLE', 'BANANA', 'CHERRY']\n"
     ]
    }
   ],
   "source": [
    "words = ['apple','banana','cherry']\n",
    "upper_word = list(map(str.upper,words))\n",
    "print(upper_word)"
   ]
  },
  {
   "cell_type": "markdown",
   "id": "15ed5183",
   "metadata": {},
   "source": [
    "# ✏️ شرح الكود:\n",
    "- بنطبع حاجة على الشاشة.\n"
   ]
  },
  {
   "cell_type": "code",
   "execution_count": 55,
   "id": "a75d6afa-52a9-4095-9ec7-27a9b864b30b",
   "metadata": {},
   "outputs": [
    {
     "data": {
      "text/plain": [
       "['kariem', 'mohamed']"
      ]
     },
     "execution_count": 55,
     "metadata": {},
     "output_type": "execute_result"
    }
   ],
   "source": [
    "def get_name(person):\n",
    "    return person['name']\n",
    "people = [\n",
    "    {'name' : 'kariem','age' : 21},\n",
    "    {'name' : 'mohamed','age' : 49}\n",
    "]\n",
    "list(map(get_name,people))"
   ]
  },
  {
   "cell_type": "markdown",
   "id": "fe965ce5",
   "metadata": {},
   "source": [
    "# ✏️ شرح الكود:\n",
    "- هنا بنعرف دالة باستخدام `def`.\n",
    "- الدالة بترجع قيمة باستخدام `return`.\n"
   ]
  },
  {
   "cell_type": "code",
   "execution_count": 59,
   "id": "2f0ab100-5310-4910-acaa-f8a4c8733e72",
   "metadata": {},
   "outputs": [
    {
     "data": {
      "text/plain": [
       "True"
      ]
     },
     "execution_count": 59,
     "metadata": {},
     "output_type": "execute_result"
    }
   ],
   "source": [
    "def even(num):\n",
    "     if num%2==0:\n",
    "      return True\n",
    "even(24)"
   ]
  },
  {
   "cell_type": "markdown",
   "id": "883527d5",
   "metadata": {},
   "source": [
    "# ✏️ شرح الكود:\n",
    "- هنا بنعرف دالة باستخدام `def`.\n",
    "- الدالة بترجع قيمة باستخدام `return`.\n",
    "- شرط بيتنفذ لو تحقق.\n"
   ]
  },
  {
   "cell_type": "code",
   "execution_count": 60,
   "id": "3f204de1-9ac1-402d-8c2e-f66bf8c180b6",
   "metadata": {},
   "outputs": [
    {
     "data": {
      "text/plain": [
       "[2, 4, 6, 8, 10, 12]"
      ]
     },
     "execution_count": 60,
     "metadata": {},
     "output_type": "execute_result"
    }
   ],
   "source": [
    "lst = [1,2,3,4,5,6,7,8,9,10,11,12]\n",
    "list(filter(even,lst))"
   ]
  },
  {
   "cell_type": "code",
   "execution_count": 61,
   "id": "78c6b5f8-6ab8-46b4-9700-c3c58700a5c2",
   "metadata": {},
   "outputs": [
    {
     "name": "stdout",
     "output_type": "stream",
     "text": [
      "[6, 7, 8, 9]\n"
     ]
    }
   ],
   "source": [
    "numbers = [1,2,3,4,5,6,7,8,9]\n",
    "greater_than_five = list(filter(lambda x:x>5,numbers))\n",
    "print(greater_than_five)"
   ]
  },
  {
   "cell_type": "markdown",
   "id": "947caedb",
   "metadata": {},
   "source": [
    "# ✏️ شرح الكود:\n",
    "- بنطبع حاجة على الشاشة.\n"
   ]
  },
  {
   "cell_type": "code",
   "execution_count": 62,
   "id": "dc8a4d8f-8c5e-438f-99b1-3c03d0399f72",
   "metadata": {},
   "outputs": [
    {
     "name": "stdout",
     "output_type": "stream",
     "text": [
      "[6, 8]\n"
     ]
    }
   ],
   "source": [
    "numbers = [1,2,3,4,5,6,7,8,9]\n",
    "even_and_greater_than_five = list(filter(lambda x:x>5 and x%2==0,numbers))\n",
    "print(even_and_greater_than_five)"
   ]
  },
  {
   "cell_type": "markdown",
   "id": "353f6e9c",
   "metadata": {},
   "source": [
    "# ✏️ شرح الكود:\n",
    "- بنطبع حاجة على الشاشة.\n"
   ]
  },
  {
   "cell_type": "code",
   "execution_count": 64,
   "id": "c8e3e190-d12d-4279-9364-105ff5f90e7d",
   "metadata": {},
   "outputs": [
    {
     "data": {
      "text/plain": [
       "[{'name': 'mohamed', 'age': 49}, {'name': 'samir', 'age': 55}]"
      ]
     },
     "execution_count": 64,
     "metadata": {},
     "output_type": "execute_result"
    }
   ],
   "source": [
    "people = [\n",
    "    {'name' : 'kariem','age' : 21},\n",
    "    {'name' : 'mohamed','age' : 49},\n",
    "    {'name' : 'samir','age' : 55}\n",
    "]\n",
    "def age_greater_than_25(person):\n",
    "    return person['age']>25\n",
    "list(filter(age_greater_than_25,people))"
   ]
  },
  {
   "cell_type": "markdown",
   "id": "46994c50",
   "metadata": {},
   "source": [
    "# ✏️ شرح الكود:\n",
    "- هنا بنعرف دالة باستخدام `def`.\n",
    "- الدالة بترجع قيمة باستخدام `return`.\n"
   ]
  },
  {
   "cell_type": "code",
   "execution_count": null,
   "id": "40f589a2-9e4c-4438-aac9-0b20a4853cda",
   "metadata": {},
   "outputs": [],
   "source": []
  }
 ],
 "metadata": {
  "kernelspec": {
   "display_name": "Python 3 (ipykernel)",
   "language": "python",
   "name": "python3"
  },
  "language_info": {
   "codemirror_mode": {
    "name": "ipython",
    "version": 3
   },
   "file_extension": ".py",
   "mimetype": "text/x-python",
   "name": "python",
   "nbconvert_exporter": "python",
   "pygments_lexer": "ipython3",
   "version": "3.12.6"
  }
 },
 "nbformat": 4,
 "nbformat_minor": 5
}
