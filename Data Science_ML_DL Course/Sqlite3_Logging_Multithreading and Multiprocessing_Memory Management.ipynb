{
 "cells": [
  {
   "cell_type": "code",
   "execution_count": 1,
   "id": "411207ea-8d2c-429b-bda9-d0068da1a905",
   "metadata": {},
   "outputs": [],
   "source": [
    "import sqlite3"
   ]
  },
  {
   "cell_type": "code",
   "execution_count": 2,
   "id": "46f23d1d-2cb1-4029-8894-2e0bb50a0b66",
   "metadata": {},
   "outputs": [
    {
     "data": {
      "text/plain": [
       "<sqlite3.Connection at 0x1db78a745e0>"
      ]
     },
     "execution_count": 2,
     "metadata": {},
     "output_type": "execute_result"
    }
   ],
   "source": [
    "connection = sqlite3.connect('example.db')\n",
    "connection"
   ]
  },
  {
   "cell_type": "code",
   "execution_count": 3,
   "id": "d5cbc0e1-b878-40b2-b031-d57e0d35e5d9",
   "metadata": {},
   "outputs": [],
   "source": [
    "cursor = connection.cursor()"
   ]
  },
  {
   "cell_type": "code",
   "execution_count": 4,
   "id": "8a0ca5f8-c8d9-4321-96a0-e8b5b8b7df5b",
   "metadata": {},
   "outputs": [],
   "source": [
    "cursor.execute('''\n",
    "CREATE TABLE IF NOT EXISTS employees (\n",
    "    id INTEGER PRIMARY KEY,\n",
    "    name TEXT NOT NULL,\n",
    "    age INTEGER,\n",
    "    department TEXT\n",
    ")\n",
    "''')\n",
    "connection.commit()\n"
   ]
  },
  {
   "cell_type": "code",
   "execution_count": 5,
   "id": "e44e6d12-f95b-4f65-ab58-c7db4c8cdd3d",
   "metadata": {},
   "outputs": [
    {
     "data": {
      "text/plain": [
       "<sqlite3.Cursor at 0x1db78c6e040>"
      ]
     },
     "execution_count": 5,
     "metadata": {},
     "output_type": "execute_result"
    }
   ],
   "source": [
    "cursor.execute('''\n",
    "SELECT * from employees\n",
    "\n",
    "''')"
   ]
  },
  {
   "cell_type": "code",
   "execution_count": 6,
   "id": "57f57b48-cf9c-4b39-a00d-170463b86a81",
   "metadata": {},
   "outputs": [],
   "source": [
    "cursor.execute('''\n",
    "Insert Into employees(name,age,department)\n",
    "              values('Kariem','21','Data Scientest')\n",
    "''')\n",
    "cursor.execute('''\n",
    "Insert Into employees(name,age,department)\n",
    "              values('Kareemm','24','Data')\n",
    "''')\n",
    "cursor.execute('''\n",
    "Insert Into employees(name,age,department)\n",
    "              values('Katiem','40','Scientest')\n",
    "''')\n",
    "connection.commit()"
   ]
  },
  {
   "cell_type": "code",
   "execution_count": 7,
   "id": "deeb4823-7279-40fd-b133-0bc45a8e35f8",
   "metadata": {},
   "outputs": [
    {
     "name": "stdout",
     "output_type": "stream",
     "text": [
      "(1, 'Kariem', 34, 'Data Scientest')\n",
      "(2, 'Kareemm', 24, 'Data')\n",
      "(3, 'Kariem', 34, 'Data Scientest')\n",
      "(4, 'Kareemm', 24, 'Data')\n",
      "(5, 'Kariem', 34, 'Data Scientest')\n",
      "(6, 'Kareemm', 24, 'Data')\n",
      "(7, 'Kariem', 34, 'Data Scientest')\n",
      "(8, 'Kareemm', 24, 'Data')\n",
      "(9, 'Kariem', 21, 'Data Scientest')\n",
      "(10, 'Kareemm', 24, 'Data')\n",
      "(11, 'Katiem', 40, 'Scientest')\n"
     ]
    }
   ],
   "source": [
    "cursor.execute('SELECT * from employees')\n",
    "rows = cursor.fetchall()\n",
    "for row in rows:\n",
    "    print(row)"
   ]
  },
  {
   "cell_type": "code",
   "execution_count": 8,
   "id": "3213c736-eea7-42b5-ae56-924371a16660",
   "metadata": {},
   "outputs": [],
   "source": [
    "cursor.execute('''\n",
    "UPDATE employees\n",
    "Set age = 34\n",
    "where name = 'Kariem'\n",
    "''')\n",
    "connection.commit()"
   ]
  },
  {
   "cell_type": "code",
   "execution_count": 9,
   "id": "bdd6018c-905d-4242-816f-94597fb0df9d",
   "metadata": {},
   "outputs": [
    {
     "name": "stdout",
     "output_type": "stream",
     "text": [
      "(1, 'Kariem', 34, 'Data Scientest')\n",
      "(2, 'Kareemm', 24, 'Data')\n",
      "(3, 'Kariem', 34, 'Data Scientest')\n",
      "(4, 'Kareemm', 24, 'Data')\n",
      "(5, 'Kariem', 34, 'Data Scientest')\n",
      "(6, 'Kareemm', 24, 'Data')\n",
      "(7, 'Kariem', 34, 'Data Scientest')\n",
      "(8, 'Kareemm', 24, 'Data')\n",
      "(9, 'Kariem', 34, 'Data Scientest')\n",
      "(10, 'Kareemm', 24, 'Data')\n",
      "(11, 'Katiem', 40, 'Scientest')\n"
     ]
    }
   ],
   "source": [
    "cursor.execute('SELECT * from employees')\n",
    "rows = cursor.fetchall()\n",
    "for row in rows:\n",
    "    print(row)"
   ]
  },
  {
   "cell_type": "code",
   "execution_count": 10,
   "id": "3c14c650-9930-4458-8811-b4590680a0af",
   "metadata": {},
   "outputs": [],
   "source": [
    "cursor.execute('''\n",
    "DELETE from employees\n",
    "         where name = 'Katiem'\n",
    "\n",
    "\n",
    "''')\n",
    "connection.commit()"
   ]
  },
  {
   "cell_type": "code",
   "execution_count": 11,
   "id": "c46bcde5-b49c-4826-a096-9cf260625228",
   "metadata": {},
   "outputs": [
    {
     "name": "stdout",
     "output_type": "stream",
     "text": [
      "(1, 'Kariem', 34, 'Data Scientest')\n",
      "(2, 'Kareemm', 24, 'Data')\n",
      "(3, 'Kariem', 34, 'Data Scientest')\n",
      "(4, 'Kareemm', 24, 'Data')\n",
      "(5, 'Kariem', 34, 'Data Scientest')\n",
      "(6, 'Kareemm', 24, 'Data')\n",
      "(7, 'Kariem', 34, 'Data Scientest')\n",
      "(8, 'Kareemm', 24, 'Data')\n",
      "(9, 'Kariem', 34, 'Data Scientest')\n",
      "(10, 'Kareemm', 24, 'Data')\n"
     ]
    }
   ],
   "source": [
    "cursor.execute('SELECT * from employees')\n",
    "rows = cursor.fetchall()\n",
    "for row in rows:\n",
    "    print(row)"
   ]
  },
  {
   "cell_type": "code",
   "execution_count": 12,
   "id": "926aa0d6-e4b9-4c49-adf2-73860b7a6b00",
   "metadata": {},
   "outputs": [],
   "source": [
    "import sqlite3\n",
    "\n",
    "connection = sqlite3.connect('sales_data.db')\n",
    "cursor = connection.cursor()\n",
    "cursor.execute('''\n",
    "CREATE TABLE IF NOT EXISTS sales (\n",
    "    id INTEGER PRIMARY KEY,\n",
    "    date TEXT NOT NULL,\n",
    "    product TEXT,\n",
    "    sales INTEGER,\n",
    "    region TEXT\n",
    ")\n",
    "''')\n",
    "connection.commit()\n",
    "\n",
    "sales_data = [\n",
    "    ('2025-01-01' , 'Product1', 100,'North'),\n",
    "    ('2025-01-02' , 'Product2', 200,'West'),\n",
    "    ('2025-01-03' , 'Product3', 300,'South'),\n",
    "    ('2025-01-04' , 'Product4', 400,'North'),\n",
    "    ('2025-01-05' , 'Product5', 500,'East'),\n",
    "]\n",
    "\n",
    "cursor.executemany('''\n",
    "INSERT INTO sales(date, product, sales, region)\n",
    "VALUES (?, ?, ?, ?)\n",
    "''', sales_data)\n",
    "connection.commit()\n"
   ]
  },
  {
   "cell_type": "code",
   "execution_count": 13,
   "id": "160918d5-55b9-4a46-bd94-6346f76d7676",
   "metadata": {},
   "outputs": [
    {
     "name": "stdout",
     "output_type": "stream",
     "text": [
      "(1, '2025-01-01', 'Product1', 100, 'North')\n",
      "(2, '2025-01-02', 'Product2', 200, 'West')\n",
      "(3, '2025-01-03', 'Product3', 300, 'South')\n",
      "(4, '2025-01-04', 'Product4', 400, 'North')\n",
      "(5, '2025-01-05', 'Product5', 500, 'East')\n",
      "(6, '2025-01-01', 'Product1', 100, 'North')\n",
      "(7, '2025-01-02', 'Product2', 200, 'West')\n",
      "(8, '2025-01-03', 'Product3', 300, 'South')\n",
      "(9, '2025-01-04', 'Product4', 400, 'North')\n",
      "(10, '2025-01-05', 'Product5', 500, 'East')\n",
      "(11, '2025-01-01', 'Product1', 100, 'North')\n",
      "(12, '2025-01-02', 'Product2', 200, 'West')\n",
      "(13, '2025-01-03', 'Product3', 300, 'South')\n",
      "(14, '2025-01-04', 'Product4', 400, 'North')\n",
      "(15, '2025-01-05', 'Product5', 500, 'East')\n",
      "(16, '2025-01-01', 'Product1', 100, 'North')\n",
      "(17, '2025-01-02', 'Product2', 200, 'West')\n",
      "(18, '2025-01-03', 'Product3', 300, 'South')\n",
      "(19, '2025-01-04', 'Product4', 400, 'North')\n",
      "(20, '2025-01-05', 'Product5', 500, 'East')\n",
      "(21, '2025-01-01', 'Product1', 100, 'North')\n",
      "(22, '2025-01-02', 'Product2', 200, 'West')\n",
      "(23, '2025-01-03', 'Product3', 300, 'South')\n",
      "(24, '2025-01-04', 'Product4', 400, 'North')\n",
      "(25, '2025-01-05', 'Product5', 500, 'East')\n"
     ]
    }
   ],
   "source": [
    "cursor.execute('SELECT * from sales')\n",
    "rows = cursor.fetchall()\n",
    "for row in rows:\n",
    "    print(row)"
   ]
  },
  {
   "cell_type": "code",
   "execution_count": 14,
   "id": "ce2355ac-8cd2-4df1-a7b7-d64322d118a6",
   "metadata": {},
   "outputs": [],
   "source": [
    "connection.close()"
   ]
  },
  {
   "cell_type": "code",
   "execution_count": 15,
   "id": "c24cf1c7-5f3a-46ce-93e1-f65d930483c0",
   "metadata": {},
   "outputs": [],
   "source": [
    "import logging"
   ]
  },
  {
   "cell_type": "code",
   "execution_count": 16,
   "id": "25215dd8-c46d-45f0-881f-15ed6306cf1c",
   "metadata": {},
   "outputs": [
    {
     "name": "stderr",
     "output_type": "stream",
     "text": [
      "DEBUG:root:This is a debug message\n",
      "INFO:root:This is a info message\n",
      "WARNING:root:This is a warning message\n",
      "ERROR:root:This is a error message\n",
      "CRITICAL:root:This is a critical message\n"
     ]
    }
   ],
   "source": [
    "logging.basicConfig(level = logging.DEBUG)\n",
    "logging.debug('This is a debug message')\n",
    "logging.info('This is a info message')\n",
    "logging.warning('This is a warning message')\n",
    "logging.error('This is a error message')\n",
    "logging.critical('This is a critical message')"
   ]
  },
  {
   "cell_type": "code",
   "execution_count": 17,
   "id": "cc8bf97f-cd26-4324-adb5-5f62552d4a6d",
   "metadata": {},
   "outputs": [
    {
     "name": "stderr",
     "output_type": "stream",
     "text": [
      "DEBUG:root:This is a debug message\n",
      "INFO:root:This is a info message\n",
      "WARNING:root:This is a warning message\n",
      "ERROR:root:This is a error message\n",
      "CRITICAL:root:This is a critical message\n"
     ]
    }
   ],
   "source": [
    "logging.basicConfig(\n",
    "    filename = 'app.log',\n",
    "    level = logging.DEBUG,\n",
    "    format = '%(asctime)s-%(name)s-%(levelname)s-%(message)x',\n",
    "    datefmt = '%Y-%m-%d %H:%M:%S'\n",
    ")\n",
    "logging.basicConfig(level = logging.DEBUG)\n",
    "logging.debug('This is a debug message')\n",
    "logging.info('This is a info message')\n",
    "logging.warning('This is a warning message')\n",
    "logging.error('This is a error message')\n",
    "logging.critical('This is a critical message')"
   ]
  },
  {
   "cell_type": "code",
   "execution_count": 18,
   "id": "966cd4b0-7124-435f-81f8-089a50f43490",
   "metadata": {},
   "outputs": [],
   "source": [
    "logger1 = logging.getLogger('Module1')\n",
    "logger1.setLevel(logging.DEBUG)\n",
    "logger2 = logging.getLogger('Module2')\n",
    "logger2.setLevel(logging.WARNING)\n",
    "logging.basicConfig(\n",
    "    level = logging.DEBUG,\n",
    "    format = '%(asctime)s-%(name)s-%(levelname)s-%(message)x',\n",
    "    datefmt = '%Y-%m-%d %H:%M:%S'\n",
    ")"
   ]
  },
  {
   "cell_type": "code",
   "execution_count": 19,
   "id": "68b7efaa-8d10-447d-b63f-1592c5068fe7",
   "metadata": {},
   "outputs": [
    {
     "name": "stderr",
     "output_type": "stream",
     "text": [
      "DEBUG:Module1:This is a debug message for module1\n",
      "WARNING:Module2:This is a worning message for module2\n"
     ]
    }
   ],
   "source": [
    "logger1.debug('This is a debug message for module1')\n",
    "logger2.warning('This is a worning message for module2')"
   ]
  },
  {
   "cell_type": "code",
   "execution_count": 20,
   "id": "03e33d2e-2744-4b68-a709-30e7715816ce",
   "metadata": {},
   "outputs": [
    {
     "name": "stderr",
     "output_type": "stream",
     "text": [
      "DEBUG:ArithmeticApp:Adding 10 + 15 = 25\n",
      "DEBUG:ArithmeticApp:Subtracting 15 - 10 = 5\n",
      "DEBUG:ArithmeticApp:Multiplying 10 * 15 = 150\n",
      "ERROR:ArithmeticApp:Division by zero error\n"
     ]
    }
   ],
   "source": [
    "import logging\n",
    "\n",
    "logging.basicConfig(\n",
    "    level=logging.DEBUG,\n",
    "    format='%(asctime)s - %(name)s - %(levelname)s - %(message)s',\n",
    "    datefmt='%Y-%m-%d %H:%M:%S',\n",
    "    handlers=[\n",
    "        logging.FileHandler('app1.log'),\n",
    "        logging.StreamHandler()\n",
    "    ]\n",
    ")\n",
    "\n",
    "logger = logging.getLogger('ArithmeticApp')\n",
    "\n",
    "def add(a, b):\n",
    "    result = a + b\n",
    "    logger.debug(f'Adding {a} + {b} = {result}')\n",
    "    return result\n",
    "\n",
    "def sub(a, b):\n",
    "    result = a - b\n",
    "    logger.debug(f'Subtracting {a} - {b} = {result}')\n",
    "    return result\n",
    "\n",
    "def mul(a, b):\n",
    "    result = a * b\n",
    "    logger.debug(f'Multiplying {a} * {b} = {result}')\n",
    "    return result\n",
    "\n",
    "def div(a, b):\n",
    "    try:\n",
    "        result = a / b\n",
    "        logger.debug(f'Dividing {a} / {b} = {result}')\n",
    "        return result\n",
    "    except ZeroDivisionError:\n",
    "        logger.error('Division by zero error')\n",
    "        return None\n",
    "\n",
    "# Test the functions\n",
    "add(10, 15)\n",
    "sub(15, 10)\n",
    "mul(10, 15)\n",
    "div(20, 0)\n"
   ]
  },
  {
   "cell_type": "code",
   "execution_count": 21,
   "id": "c544c48e-f490-4cc8-b242-89dd4d9c45fc",
   "metadata": {},
   "outputs": [],
   "source": [
    "import threading"
   ]
  },
  {
   "cell_type": "code",
   "execution_count": 22,
   "id": "5485aad9-efd3-4601-ac65-fe3a165115f3",
   "metadata": {},
   "outputs": [],
   "source": [
    "import time"
   ]
  },
  {
   "cell_type": "code",
   "execution_count": 23,
   "id": "d8c09f04-dc3b-45bb-901e-f193ce67bd16",
   "metadata": {},
   "outputs": [
    {
     "name": "stdout",
     "output_type": "stream",
     "text": [
      "Letter: a\n",
      "Number:0\n",
      "Letter: b\n",
      "Number:1\n",
      "Number:2\n",
      "Letter: c\n",
      "Number:3Letter: d\n",
      "\n",
      "Letter: e\n",
      "Number:4\n",
      "Number:0\n",
      "Number:1\n",
      "Number:2\n",
      "Number:3\n",
      "Number:4\n",
      "Letter: a\n",
      "Letter: b\n",
      "Letter: c\n",
      "Letter: d\n",
      "Letter: e\n",
      "30.021437644958496\n"
     ]
    }
   ],
   "source": [
    "def print_numbers():\n",
    "    for i in range(5):\n",
    "        time.sleep(2)\n",
    "        print(f'Number:{i}')\n",
    "def print_letter():\n",
    "    for letter in 'abcde':\n",
    "        time.sleep(2)\n",
    "        print(f'Letter: {letter}')\n",
    "t1 = threading.Thread(target = print_numbers)\n",
    "t2 = threading.Thread(target = print_letter)\n",
    "\n",
    "t = time.time()\n",
    "t1.start()\n",
    "t2.start()\n",
    "t1.join()\n",
    "t2.join()\n",
    "print_numbers()\n",
    "print_letter()\n",
    "finished_time = time.time()-t\n",
    "print(finished_time)"
   ]
  },
  {
   "cell_type": "code",
   "execution_count": 24,
   "id": "50d517e7-8a20-4e65-992f-3e9316058733",
   "metadata": {},
   "outputs": [],
   "source": [
    "import multiprocessing"
   ]
  },
  {
   "cell_type": "code",
   "execution_count": 25,
   "id": "0c4f899b-67e7-4325-9986-45d578a2a048",
   "metadata": {},
   "outputs": [
    {
     "name": "stdout",
     "output_type": "stream",
     "text": [
      "1.6225612163543701\n"
     ]
    }
   ],
   "source": [
    "def square_numbers():\n",
    "    for i in range(5):\n",
    "        time.sleep(1)\n",
    "        print(f'Square:{i*i}')\n",
    "def cube_numbers():\n",
    "    for i in range(5):\n",
    "        time.sleep(1.5)\n",
    "        print(f'Cube:{i*i*i}')\n",
    "if __name__=='__main__':\n",
    " p1 = multiprocessing.Process(target=square_numbers)\n",
    " p2 = multiprocessing.Process(target=cube_numbers)\n",
    " t=time.time()\n",
    " p1.start()\n",
    " p2.start()\n",
    " p1.join()\n",
    " p2.join()\n",
    " finished_time=time.time()-t\n",
    " print(finished_time)"
   ]
  },
  {
   "cell_type": "code",
   "execution_count": 26,
   "id": "20390883-f20b-486b-973a-b5f8fb02e8ab",
   "metadata": {},
   "outputs": [],
   "source": [
    "from concurrent.futures import ThreadPoolExecutor"
   ]
  },
  {
   "cell_type": "code",
   "execution_count": 27,
   "id": "d73d106c-374b-45d8-9113-dd4f93f4b575",
   "metadata": {},
   "outputs": [],
   "source": [
    "import time"
   ]
  },
  {
   "cell_type": "code",
   "execution_count": 28,
   "id": "d2fd40c6-582b-4570-a124-6e396b95708d",
   "metadata": {},
   "outputs": [
    {
     "name": "stdout",
     "output_type": "stream",
     "text": [
      "Number : 1\n",
      "Number : 2\n",
      "Number : 3\n",
      "Number : 4\n",
      "Number : 5\n"
     ]
    }
   ],
   "source": [
    "def print_number(number):\n",
    "    time.sleep(1)\n",
    "    return f'Number : {number}'\n",
    "numbers = [1,2,3,4,5]\n",
    "with ThreadPoolExecutor(max_workers=3) as executor:\n",
    "    results = executor.map(print_number,numbers)\n",
    "for result in results:\n",
    "    print(result)"
   ]
  },
  {
   "cell_type": "code",
   "execution_count": 29,
   "id": "7261b886-8521-47b4-bb48-ae7b633e26bc",
   "metadata": {},
   "outputs": [
    {
     "name": "stdout",
     "output_type": "stream",
     "text": [
      "Number : 1\n",
      "Number : 4\n",
      "Number : 9\n",
      "Number : 16\n",
      "Number : 25\n",
      "Number : 49\n",
      "Number : 81\n",
      "Number : 144\n",
      "Number : 196\n"
     ]
    }
   ],
   "source": [
    "def square_number(number):\n",
    "    time.sleep(1)\n",
    "    return f'Number : {number*number}'\n",
    "numbers = [1,2,3,4,5,7,9,12,14]\n",
    "if __name__=='__main__':\n",
    "    \n",
    " with ThreadPoolExecutor(max_workers=3) as executor:\n",
    "     results = executor.map(square_number,numbers)\n",
    " for result in results:\n",
    "    print(result)"
   ]
  },
  {
   "cell_type": "code",
   "execution_count": 30,
   "id": "3afde5a1-ed31-47c2-b26e-8cfcff5a9794",
   "metadata": {},
   "outputs": [],
   "source": [
    "'''\n",
    "https://langchain-ai.github.io/langgraph/tutorials/introduction/\n",
    "https://python.langchain.com/docs/introduction/\n",
    "https://docs.smith.langchain.com/\n",
    "'''\n",
    "import threading\n",
    "import requests\n"
   ]
  },
  {
   "cell_type": "code",
   "execution_count": 31,
   "id": "a6af98ed-3253-4cae-8a8d-e7fb42d5c103",
   "metadata": {},
   "outputs": [
    {
     "name": "stdout",
     "output_type": "stream",
     "text": [
      "Requirement already satisfied: seaborn in c:\\users\\dell\\appdata\\local\\programs\\python\\python312\\lib\\site-packages (from -r ex.txt (line 1)) (0.13.2)\n",
      "Requirement already satisfied: flask in c:\\users\\dell\\appdata\\local\\programs\\python\\python312\\lib\\site-packages (from -r ex.txt (line 2)) (3.1.0)\n",
      "Requirement already satisfied: memory_profiler in c:\\users\\dell\\appdata\\local\\programs\\python\\python312\\lib\\site-packages (from -r ex.txt (line 3)) (0.61.0)\n",
      "Requirement already satisfied: streamlit in c:\\users\\dell\\appdata\\local\\programs\\python\\python312\\lib\\site-packages (from -r ex.txt (line 4)) (1.44.1)\n",
      "Requirement already satisfied: scikit-learn in c:\\users\\dell\\appdata\\local\\programs\\python\\python312\\lib\\site-packages (from -r ex.txt (line 5)) (1.5.2)\n",
      "Requirement already satisfied: bs4 in c:\\users\\dell\\appdata\\local\\programs\\python\\python312\\lib\\site-packages (from -r ex.txt (line 6)) (0.0.2)\n",
      "Requirement already satisfied: numpy!=1.24.0,>=1.20 in c:\\users\\dell\\appdata\\local\\programs\\python\\python312\\lib\\site-packages (from seaborn->-r ex.txt (line 1)) (2.1.1)\n",
      "Requirement already satisfied: pandas>=1.2 in c:\\users\\dell\\appdata\\local\\programs\\python\\python312\\lib\\site-packages (from seaborn->-r ex.txt (line 1)) (2.2.3)\n",
      "Requirement already satisfied: matplotlib!=3.6.1,>=3.4 in c:\\users\\dell\\appdata\\local\\programs\\python\\python312\\lib\\site-packages (from seaborn->-r ex.txt (line 1)) (3.9.2)\n",
      "Requirement already satisfied: Werkzeug>=3.1 in c:\\users\\dell\\appdata\\local\\programs\\python\\python312\\lib\\site-packages (from flask->-r ex.txt (line 2)) (3.1.3)\n",
      "Requirement already satisfied: Jinja2>=3.1.2 in c:\\users\\dell\\appdata\\local\\programs\\python\\python312\\lib\\site-packages (from flask->-r ex.txt (line 2)) (3.1.4)\n",
      "Requirement already satisfied: itsdangerous>=2.2 in c:\\users\\dell\\appdata\\local\\programs\\python\\python312\\lib\\site-packages (from flask->-r ex.txt (line 2)) (2.2.0)\n",
      "Requirement already satisfied: click>=8.1.3 in c:\\users\\dell\\appdata\\local\\programs\\python\\python312\\lib\\site-packages (from flask->-r ex.txt (line 2)) (8.1.7)\n",
      "Requirement already satisfied: blinker>=1.9 in c:\\users\\dell\\appdata\\local\\programs\\python\\python312\\lib\\site-packages (from flask->-r ex.txt (line 2)) (1.9.0)\n",
      "Requirement already satisfied: psutil in c:\\users\\dell\\appdata\\local\\programs\\python\\python312\\lib\\site-packages (from memory_profiler->-r ex.txt (line 3)) (5.9.8)\n",
      "Requirement already satisfied: altair<6,>=4.0 in c:\\users\\dell\\appdata\\local\\programs\\python\\python312\\lib\\site-packages (from streamlit->-r ex.txt (line 4)) (5.5.0)\n",
      "Requirement already satisfied: cachetools<6,>=4.0 in c:\\users\\dell\\appdata\\local\\programs\\python\\python312\\lib\\site-packages (from streamlit->-r ex.txt (line 4)) (5.5.2)\n",
      "Requirement already satisfied: packaging<25,>=20 in c:\\users\\dell\\appdata\\local\\programs\\python\\python312\\lib\\site-packages (from streamlit->-r ex.txt (line 4)) (24.1)\n",
      "Requirement already satisfied: pillow<12,>=7.1.0 in c:\\users\\dell\\appdata\\local\\programs\\python\\python312\\lib\\site-packages (from streamlit->-r ex.txt (line 4)) (11.0.0)\n",
      "Requirement already satisfied: protobuf<6,>=3.20 in c:\\users\\dell\\appdata\\local\\programs\\python\\python312\\lib\\site-packages (from streamlit->-r ex.txt (line 4)) (5.29.4)\n",
      "Requirement already satisfied: pyarrow>=7.0 in c:\\users\\dell\\appdata\\local\\programs\\python\\python312\\lib\\site-packages (from streamlit->-r ex.txt (line 4)) (19.0.1)\n",
      "Requirement already satisfied: requests<3,>=2.27 in c:\\users\\dell\\appdata\\local\\programs\\python\\python312\\lib\\site-packages (from streamlit->-r ex.txt (line 4)) (2.32.3)\n",
      "Requirement already satisfied: tenacity<10,>=8.1.0 in c:\\users\\dell\\appdata\\local\\programs\\python\\python312\\lib\\site-packages (from streamlit->-r ex.txt (line 4)) (9.1.2)\n",
      "Requirement already satisfied: toml<2,>=0.10.1 in c:\\users\\dell\\appdata\\local\\programs\\python\\python312\\lib\\site-packages (from streamlit->-r ex.txt (line 4)) (0.10.2)\n",
      "Requirement already satisfied: typing-extensions<5,>=4.4.0 in c:\\users\\dell\\appdata\\local\\programs\\python\\python312\\lib\\site-packages (from streamlit->-r ex.txt (line 4)) (4.13.2)\n",
      "Requirement already satisfied: watchdog<7,>=2.1.5 in c:\\users\\dell\\appdata\\local\\programs\\python\\python312\\lib\\site-packages (from streamlit->-r ex.txt (line 4)) (6.0.0)\n",
      "Requirement already satisfied: gitpython!=3.1.19,<4,>=3.0.7 in c:\\users\\dell\\appdata\\local\\programs\\python\\python312\\lib\\site-packages (from streamlit->-r ex.txt (line 4)) (3.1.43)\n",
      "Requirement already satisfied: pydeck<1,>=0.8.0b4 in c:\\users\\dell\\appdata\\local\\programs\\python\\python312\\lib\\site-packages (from streamlit->-r ex.txt (line 4)) (0.9.1)\n",
      "Requirement already satisfied: tornado<7,>=6.0.3 in c:\\users\\dell\\appdata\\local\\programs\\python\\python312\\lib\\site-packages (from streamlit->-r ex.txt (line 4)) (6.4.1)\n",
      "Requirement already satisfied: scipy>=1.6.0 in c:\\users\\dell\\appdata\\local\\programs\\python\\python312\\lib\\site-packages (from scikit-learn->-r ex.txt (line 5)) (1.14.1)\n",
      "Requirement already satisfied: joblib>=1.2.0 in c:\\users\\dell\\appdata\\local\\programs\\python\\python312\\lib\\site-packages (from scikit-learn->-r ex.txt (line 5)) (1.4.2)\n",
      "Requirement already satisfied: threadpoolctl>=3.1.0 in c:\\users\\dell\\appdata\\local\\programs\\python\\python312\\lib\\site-packages (from scikit-learn->-r ex.txt (line 5)) (3.5.0)\n",
      "Requirement already satisfied: beautifulsoup4 in c:\\users\\dell\\appdata\\local\\programs\\python\\python312\\lib\\site-packages (from bs4->-r ex.txt (line 6)) (4.12.3)\n",
      "Requirement already satisfied: jsonschema>=3.0 in c:\\users\\dell\\appdata\\local\\programs\\python\\python312\\lib\\site-packages (from altair<6,>=4.0->streamlit->-r ex.txt (line 4)) (4.23.0)\n",
      "Requirement already satisfied: narwhals>=1.14.2 in c:\\users\\dell\\appdata\\local\\programs\\python\\python312\\lib\\site-packages (from altair<6,>=4.0->streamlit->-r ex.txt (line 4)) (1.35.0)\n",
      "Requirement already satisfied: colorama in c:\\users\\dell\\appdata\\local\\programs\\python\\python312\\lib\\site-packages (from click>=8.1.3->flask->-r ex.txt (line 2)) (0.4.6)\n",
      "Requirement already satisfied: gitdb<5,>=4.0.1 in c:\\users\\dell\\appdata\\local\\programs\\python\\python312\\lib\\site-packages (from gitpython!=3.1.19,<4,>=3.0.7->streamlit->-r ex.txt (line 4)) (4.0.11)\n",
      "Requirement already satisfied: MarkupSafe>=2.0 in c:\\users\\dell\\appdata\\local\\programs\\python\\python312\\lib\\site-packages (from Jinja2>=3.1.2->flask->-r ex.txt (line 2)) (2.1.5)\n",
      "Requirement already satisfied: contourpy>=1.0.1 in c:\\users\\dell\\appdata\\local\\programs\\python\\python312\\lib\\site-packages (from matplotlib!=3.6.1,>=3.4->seaborn->-r ex.txt (line 1)) (1.3.0)\n",
      "Requirement already satisfied: cycler>=0.10 in c:\\users\\dell\\appdata\\local\\programs\\python\\python312\\lib\\site-packages (from matplotlib!=3.6.1,>=3.4->seaborn->-r ex.txt (line 1)) (0.12.1)\n",
      "Requirement already satisfied: fonttools>=4.22.0 in c:\\users\\dell\\appdata\\local\\programs\\python\\python312\\lib\\site-packages (from matplotlib!=3.6.1,>=3.4->seaborn->-r ex.txt (line 1)) (4.54.1)\n",
      "Requirement already satisfied: kiwisolver>=1.3.1 in c:\\users\\dell\\appdata\\local\\programs\\python\\python312\\lib\\site-packages (from matplotlib!=3.6.1,>=3.4->seaborn->-r ex.txt (line 1)) (1.4.7)\n",
      "Requirement already satisfied: pyparsing>=2.3.1 in c:\\users\\dell\\appdata\\local\\programs\\python\\python312\\lib\\site-packages (from matplotlib!=3.6.1,>=3.4->seaborn->-r ex.txt (line 1)) (3.2.0)\n",
      "Requirement already satisfied: python-dateutil>=2.7 in c:\\users\\dell\\appdata\\local\\programs\\python\\python312\\lib\\site-packages (from matplotlib!=3.6.1,>=3.4->seaborn->-r ex.txt (line 1)) (2.9.0.post0)\n",
      "Requirement already satisfied: pytz>=2020.1 in c:\\users\\dell\\appdata\\local\\programs\\python\\python312\\lib\\site-packages (from pandas>=1.2->seaborn->-r ex.txt (line 1)) (2024.2)\n",
      "Requirement already satisfied: tzdata>=2022.7 in c:\\users\\dell\\appdata\\local\\programs\\python\\python312\\lib\\site-packages (from pandas>=1.2->seaborn->-r ex.txt (line 1)) (2024.2)\n",
      "Requirement already satisfied: charset-normalizer<4,>=2 in c:\\users\\dell\\appdata\\local\\programs\\python\\python312\\lib\\site-packages (from requests<3,>=2.27->streamlit->-r ex.txt (line 4)) (3.3.2)\n",
      "Requirement already satisfied: idna<4,>=2.5 in c:\\users\\dell\\appdata\\local\\programs\\python\\python312\\lib\\site-packages (from requests<3,>=2.27->streamlit->-r ex.txt (line 4)) (3.8)\n",
      "Requirement already satisfied: urllib3<3,>=1.21.1 in c:\\users\\dell\\appdata\\local\\programs\\python\\python312\\lib\\site-packages (from requests<3,>=2.27->streamlit->-r ex.txt (line 4)) (2.2.2)\n",
      "Requirement already satisfied: certifi>=2017.4.17 in c:\\users\\dell\\appdata\\local\\programs\\python\\python312\\lib\\site-packages (from requests<3,>=2.27->streamlit->-r ex.txt (line 4)) (2024.8.30)\n",
      "Requirement already satisfied: soupsieve>1.2 in c:\\users\\dell\\appdata\\local\\programs\\python\\python312\\lib\\site-packages (from beautifulsoup4->bs4->-r ex.txt (line 6)) (2.6)\n",
      "Requirement already satisfied: smmap<6,>=3.0.1 in c:\\users\\dell\\appdata\\local\\programs\\python\\python312\\lib\\site-packages (from gitdb<5,>=4.0.1->gitpython!=3.1.19,<4,>=3.0.7->streamlit->-r ex.txt (line 4)) (5.0.1)\n",
      "Requirement already satisfied: attrs>=22.2.0 in c:\\users\\dell\\appdata\\local\\programs\\python\\python312\\lib\\site-packages (from jsonschema>=3.0->altair<6,>=4.0->streamlit->-r ex.txt (line 4)) (24.2.0)\n",
      "Requirement already satisfied: jsonschema-specifications>=2023.03.6 in c:\\users\\dell\\appdata\\local\\programs\\python\\python312\\lib\\site-packages (from jsonschema>=3.0->altair<6,>=4.0->streamlit->-r ex.txt (line 4)) (2023.12.1)\n",
      "Requirement already satisfied: referencing>=0.28.4 in c:\\users\\dell\\appdata\\local\\programs\\python\\python312\\lib\\site-packages (from jsonschema>=3.0->altair<6,>=4.0->streamlit->-r ex.txt (line 4)) (0.35.1)\n",
      "Requirement already satisfied: rpds-py>=0.7.1 in c:\\users\\dell\\appdata\\local\\programs\\python\\python312\\lib\\site-packages (from jsonschema>=3.0->altair<6,>=4.0->streamlit->-r ex.txt (line 4)) (0.20.0)\n",
      "Requirement already satisfied: six>=1.5 in c:\\users\\dell\\appdata\\local\\programs\\python\\python312\\lib\\site-packages (from python-dateutil>=2.7->matplotlib!=3.6.1,>=3.4->seaborn->-r ex.txt (line 1)) (1.16.0)\n"
     ]
    },
    {
     "name": "stderr",
     "output_type": "stream",
     "text": [
      "\n",
      "[notice] A new release of pip is available: 24.3.1 -> 25.0.1\n",
      "[notice] To update, run: python.exe -m pip install --upgrade pip\n"
     ]
    }
   ],
   "source": [
    "!pip install -r ex.txt"
   ]
  },
  {
   "cell_type": "code",
   "execution_count": 32,
   "id": "54044032-c2a6-4eef-8711-88259cc1795f",
   "metadata": {},
   "outputs": [],
   "source": [
    "from bs4 import BeautifulSoup\n",
    "urls=[\n",
    "'https://langchain-ai.github.io/langgraph/tutorials/introduction/'\n",
    "'https://python.langchain.com/docs/introduction/'\n",
    "'https://docs.smith.langchain.com/' \n",
    "]"
   ]
  },
  {
   "cell_type": "code",
   "execution_count": 33,
   "id": "7b18ce53-60dd-4eae-83eb-6852694316a0",
   "metadata": {},
   "outputs": [
    {
     "name": "stderr",
     "output_type": "stream",
     "text": [
      "DEBUG:urllib3.connectionpool:Starting new HTTPS connection (1): langchain-ai.github.io:443\n",
      "DEBUG:urllib3.connectionpool:https://langchain-ai.github.io:443 \"GET /langgraph/tutorials/introduction/https://python.langchain.com/docs/introduction/https://docs.smith.langchain.com/ HTTP/11\" 404 8335\n"
     ]
    },
    {
     "name": "stdout",
     "output_type": "stream",
     "text": [
      "Fetched 1134 characters from https://langchain-ai.github.io/langgraph/tutorials/introduction/https://python.langchain.com/docs/introduction/https://docs.smith.langchain.com/\n",
      "All web pages fetched\n"
     ]
    }
   ],
   "source": [
    "def fetch_content(url):\n",
    "    response = requests.get(url)\n",
    "    soup = BeautifulSoup(response.content,'html.parser')\n",
    "    print(f'Fetched {(len(soup.text))} characters from {url}')\n",
    "threads = []\n",
    "for url in urls:\n",
    "    thread = threading.Thread(target = fetch_content,args =(url,))\n",
    "    threads.append(thread)\n",
    "    thread.start()\n",
    "for thread in threads:\n",
    "    thread.join()\n",
    "print('All web pages fetched')"
   ]
  },
  {
   "cell_type": "code",
   "execution_count": 34,
   "id": "5b64a733-bb39-4bff-bfa2-b6c5d3b5c499",
   "metadata": {},
   "outputs": [],
   "source": [
    "import multiprocessing\n",
    "import math\n",
    "import sys\n",
    "import time"
   ]
  },
  {
   "cell_type": "code",
   "execution_count": 35,
   "id": "877a59ba-0ce2-405c-8615-d2d173b063ec",
   "metadata": {},
   "outputs": [],
   "source": [
    "sys.set_int_max_str_digits(100000)"
   ]
  },
  {
   "cell_type": "code",
   "execution_count": 36,
   "id": "73b625dc-13f4-4dd5-89a9-c4698c1a6944",
   "metadata": {},
   "outputs": [],
   "source": [
    "def computer_factorial(number):\n",
    "    print(f'Computing factorial of{number}')\n",
    "    result=math.factorial(number)\n",
    "    print(f'Factorial of {number} is {result}')\n",
    "    return result\n",
    "if __name__=='main__':\n",
    "    numbers = [5000,6000,7000,8000]\n",
    "    start_time = time.time()\n",
    "    with multiprocessing.Pool() as pool:\n",
    "        resutls = pool.map(computer_factorial,numbers)\n",
    "    end_time=time.time()\n",
    "    print(f'Results : {results}')\n",
    "    print(f'Time taken : {end_time - start_time} seconds')\n"
   ]
  },
  {
   "cell_type": "code",
   "execution_count": 37,
   "id": "904fb032-9d55-48a2-80b8-c46836ad3b85",
   "metadata": {},
   "outputs": [],
   "source": [
    "import sys"
   ]
  },
  {
   "cell_type": "code",
   "execution_count": 38,
   "id": "0061b13f-2791-4ed1-ba08-e1a8a85594df",
   "metadata": {},
   "outputs": [
    {
     "name": "stdout",
     "output_type": "stream",
     "text": [
      "2\n"
     ]
    }
   ],
   "source": [
    "a = []\n",
    "print(sys.getrefcount(a))"
   ]
  },
  {
   "cell_type": "code",
   "execution_count": 39,
   "id": "27ba2411-4f30-46ec-a8d8-c6690dec39e9",
   "metadata": {},
   "outputs": [
    {
     "name": "stdout",
     "output_type": "stream",
     "text": [
      "3\n"
     ]
    }
   ],
   "source": [
    "b = a\n",
    "print(sys.getrefcount(b))"
   ]
  },
  {
   "cell_type": "code",
   "execution_count": 40,
   "id": "ca031ebd-10ae-4b79-bf92-cfc70779cdac",
   "metadata": {},
   "outputs": [
    {
     "name": "stdout",
     "output_type": "stream",
     "text": [
      "2\n"
     ]
    }
   ],
   "source": [
    "del b \n",
    "print(sys.getrefcount(a))"
   ]
  },
  {
   "cell_type": "code",
   "execution_count": 41,
   "id": "29d65a35-1505-47d8-be10-5ba6f97cd465",
   "metadata": {},
   "outputs": [],
   "source": [
    "import gc"
   ]
  },
  {
   "cell_type": "code",
   "execution_count": 42,
   "id": "b36ad49e-fdb3-471e-941a-0b52511d7b0e",
   "metadata": {},
   "outputs": [],
   "source": [
    "gc.enable()"
   ]
  },
  {
   "cell_type": "code",
   "execution_count": 43,
   "id": "3b845c85-fc61-41e6-8373-d415ffe54acb",
   "metadata": {},
   "outputs": [],
   "source": [
    "gc.disable()"
   ]
  },
  {
   "cell_type": "code",
   "execution_count": 44,
   "id": "d19eeac4-9c4c-46fb-b28b-27042d22a066",
   "metadata": {},
   "outputs": [
    {
     "data": {
      "text/plain": [
       "1224"
      ]
     },
     "execution_count": 44,
     "metadata": {},
     "output_type": "execute_result"
    }
   ],
   "source": [
    "gc.collect()"
   ]
  },
  {
   "cell_type": "code",
   "execution_count": 45,
   "id": "fd7f49f6-b978-47d8-ba5b-870ff9fca137",
   "metadata": {},
   "outputs": [
    {
     "name": "stdout",
     "output_type": "stream",
     "text": [
      "[{'collections': 201, 'collected': 1489, 'uncollectable': 0}, {'collections': 18, 'collected': 304, 'uncollectable': 0}, {'collections': 2, 'collected': 1224, 'uncollectable': 0}]\n"
     ]
    }
   ],
   "source": [
    "print(gc.get_stats())"
   ]
  },
  {
   "cell_type": "code",
   "execution_count": 46,
   "id": "17e5a283-4859-441c-9b31-18ef3b0685d1",
   "metadata": {},
   "outputs": [
    {
     "name": "stdout",
     "output_type": "stream",
     "text": [
      "[]\n"
     ]
    }
   ],
   "source": [
    "print(gc.garbage)"
   ]
  },
  {
   "cell_type": "code",
   "execution_count": 47,
   "id": "f96067bb-1514-4149-a9fe-d7913b06273e",
   "metadata": {},
   "outputs": [
    {
     "name": "stdout",
     "output_type": "stream",
     "text": [
      "Object obj1 created\n",
      "Object obj2 created\n",
      "Object obj1 deleted\n",
      "Object obj2 deleted\n"
     ]
    },
    {
     "data": {
      "text/plain": [
       "2"
      ]
     },
     "execution_count": 47,
     "metadata": {},
     "output_type": "execute_result"
    }
   ],
   "source": [
    "class Myobject:\n",
    "    def __init__(self,name):\n",
    "        self.name=name\n",
    "        print(f'Object {self.name} created')\n",
    "    def __del__(self):\n",
    "        print(f'Object {self.name} deleted')\n",
    "obj1 = Myobject('obj1')\n",
    "obj2 = Myobject('obj2')\n",
    "obj1.ref = obj2\n",
    "obj2.ref = obj1\n",
    "del obj1\n",
    "del obj2\n",
    "gc.collect()"
   ]
  },
  {
   "cell_type": "code",
   "execution_count": 48,
   "id": "97cbd578-5832-4aa7-8092-63a60217b317",
   "metadata": {},
   "outputs": [
    {
     "name": "stdout",
     "output_type": "stream",
     "text": [
      "0\n",
      "1\n",
      "2\n",
      "3\n",
      "4\n",
      "5\n",
      "6\n",
      "7\n",
      "8\n",
      "9\n",
      "10\n",
      "11\n"
     ]
    }
   ],
   "source": [
    "def generate_numbers(n):\n",
    "    for i in range(n):\n",
    "        yield i\n",
    "for num in generate_numbers(100000):\n",
    "    print(num)\n",
    "    if num>10:\n",
    "        break"
   ]
  },
  {
   "cell_type": "code",
   "execution_count": 49,
   "id": "76f6cf12-f3bc-466b-988e-dbd76ce714d6",
   "metadata": {},
   "outputs": [],
   "source": [
    "import tracemalloc"
   ]
  },
  {
   "cell_type": "code",
   "execution_count": 50,
   "id": "ffc612ac-1931-4bde-ab00-2329030ff439",
   "metadata": {},
   "outputs": [],
   "source": [
    "def create_list():\n",
    "    return[i for i in range(10000)]\n",
    "def main():\n",
    "    tracemalloc.start()\n",
    "    create_list()\n",
    "    snapshot = tracemalloc.take_snapshot()\n",
    "    top_stats = snapshot.statistics('lineno')\n",
    "    print('[Top 10]')\n",
    "    for stat in top_stats[::]:\n",
    "        print(stat)"
   ]
  },
  {
   "cell_type": "code",
   "execution_count": 51,
   "id": "b7d476fa-41e9-4901-ab57-b8bb3bf20dce",
   "metadata": {},
   "outputs": [
    {
     "name": "stdout",
     "output_type": "stream",
     "text": [
      "[Top 10]\n",
      "C:\\Users\\DELL\\AppData\\Local\\Temp\\ipykernel_6056\\2486784533.py:1: size=72 B, count=1, average=72 B\n",
      "C:\\Users\\DELL\\AppData\\Local\\Programs\\Python\\Python312\\Lib\\tracemalloc.py:551: size=72 B, count=1, average=72 B\n"
     ]
    }
   ],
   "source": [
    "main()"
   ]
  },
  {
   "cell_type": "code",
   "execution_count": null,
   "id": "37894cf3-e6c9-4456-9522-399da8152760",
   "metadata": {},
   "outputs": [],
   "source": []
  }
 ],
 "metadata": {
  "kernelspec": {
   "display_name": "Python 3 (ipykernel)",
   "language": "python",
   "name": "python3"
  },
  "language_info": {
   "codemirror_mode": {
    "name": "ipython",
    "version": 3
   },
   "file_extension": ".py",
   "mimetype": "text/x-python",
   "name": "python",
   "nbconvert_exporter": "python",
   "pygments_lexer": "ipython3",
   "version": "3.12.6"
  }
 },
 "nbformat": 4,
 "nbformat_minor": 5
}
