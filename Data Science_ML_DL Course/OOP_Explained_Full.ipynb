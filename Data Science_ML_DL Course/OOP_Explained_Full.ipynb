{
 "cells": [
  {
   "cell_type": "markdown",
   "id": "b7b7f0c5",
   "metadata": {},
   "source": [
    "# 💡 الشرح الكامل لـ OOP (البرمجة كائنية التوجه) في بايثون\n",
    "\n",
    "الـ OOP أو البرمجة الكائنية معناها إننا بنكتب كود بيعتمد على \"الكائنات\" اللي ليها خصائص (Attributes) ووظائف (Methods). يعني زي ما بتشوف في الحياة: \"عربية\" ليها لون وسرعة وموتور، وتقدر \"تمشي\" و\"تفرمل\".\n",
    "\n",
    "## الأساسيات بتاعة الـ OOP في بايثون:\n",
    "\n",
    "### ✅ 1. Class (الكلاس)\n",
    "الكلاس هو الشكل العام أو القالب اللي بنعمل منه الكائنات. بنوصف فيه الخصائص والدوال اللي الكائن هيكون فيها.\n",
    "\n",
    "```python\n",
    "class Dog:\n",
    "    pass\n",
    "```\n",
    "\n",
    "### ✅ 2. Object (الكائن)\n",
    "الكائن هو نسخة من الكلاس. لما بنعمل كائن بنكون كده بنستخدم الكلاس كإنه مصنع.\n",
    "\n",
    "```python\n",
    "dog1 = Dog()\n",
    "```\n",
    "\n",
    "### ✅ 3. `__init__` (الـ Constructor)\n",
    "دالة خاصة بتشتغل أوتوماتيك أول ما الكائن بيتعمل. بنستخدمها علشان ندي قيم أولية للكائن.\n",
    "\n",
    "```python\n",
    "class Dog:\n",
    "    def __init__(self, name):\n",
    "        self.name = name\n",
    "```\n",
    "\n",
    "### ✅ 4. Attributes (الخصائص)\n",
    "دي البيانات اللي بتتخزن جوه الكائن.\n",
    "\n",
    "```python\n",
    "dog1.name = \"Buddy\"\n",
    "```\n",
    "\n",
    "### ✅ 5. Methods (الدوال)\n",
    "دي الأفعال اللي الكائن يقدر يعملها. بنكتبها كدوال جوا الكلاس.\n",
    "\n",
    "```python\n",
    "class Dog:\n",
    "    def bark(self):\n",
    "        print(\"Woof!\")\n",
    "```\n",
    "\n",
    "### ✅ 6. Inheritance (الوراثة)\n",
    "يعني كلاس بياخد من كلاس تاني الخصائص والدوال بتاعته.\n",
    "\n",
    "```python\n",
    "class Animal:\n",
    "    def speak(self):\n",
    "        print(\"Animal sound\")\n",
    "\n",
    "class Dog(Animal):\n",
    "    pass\n",
    "```\n",
    "\n",
    "### ✅ 7. Overriding (إعادة تعريف دالة)\n",
    "لو كلاس الاب عنده دالة، والابن حب يغيرها على مزاجه.\n",
    "\n",
    "```python\n",
    "class Dog(Animal):\n",
    "    def speak(self):\n",
    "        print(\"Woof!\")\n",
    "```\n",
    "\n",
    "### ✅ 8. Encapsulation (الكبسلة)\n",
    "يعني نخلي الداتا جوا الكائن بس، ونحدد مين يقدر يشوفها أو يعدلها.\n",
    "\n",
    "### ✅ 9. Polymorphism (تعدد الأشكال)\n",
    "يعني نفس الدالة تشتغل بطرق مختلفة حسب الكائن.\n",
    "\n",
    "```python\n",
    "def animal_sound(animal):\n",
    "    animal.speak()\n",
    "```\n",
    "\n",
    "هنا الدالة `speak()` هتشتغل حسب نوع الكائن اللي دخل.\n",
    "\n",
    "---\n"
   ]
  },
  {
   "cell_type": "code",
   "execution_count": 1,
   "id": "4f495ca3-e882-441a-9359-a19102abe2ec",
   "metadata": {},
   "outputs": [],
   "source": [
    "class Car:\n",
    "    pass\n",
    "audi = Car()\n",
    "bmw = Car()"
   ]
  },
  {
   "cell_type": "code",
   "execution_count": 2,
   "id": "972c784b-1ae1-4ba1-8bcf-455906be813a",
   "metadata": {},
   "outputs": [
    {
     "name": "stdout",
     "output_type": "stream",
     "text": [
      "4\n"
     ]
    }
   ],
   "source": [
    "audi.windows = 4\n",
    "print(audi.windows)"
   ]
  },
  {
   "cell_type": "code",
   "execution_count": 3,
   "id": "657435d2-8ad3-43f0-a9fd-473b1f3d734e",
   "metadata": {},
   "outputs": [
    {
     "name": "stdout",
     "output_type": "stream",
     "text": [
      "Buddy\n",
      "3\n",
      "Lucy   4\n"
     ]
    }
   ],
   "source": [
    "class Dog:\n",
    "    def __init__(self ,name,age):\n",
    "        self.name = name\n",
    "        self.age = age\n",
    "dog1 = Dog('Buddy',3)\n",
    "print(dog1.name)\n",
    "print(dog1.age)\n",
    "dog2 = Dog('Lucy',4)\n",
    "print(dog2.name,' ' , dog2.age)"
   ]
  },
  {
   "cell_type": "code",
   "execution_count": 4,
   "id": "c18e6dba-f38c-4a00-a33b-2f1f7fb89ae2",
   "metadata": {},
   "outputs": [
    {
     "name": "stdout",
     "output_type": "stream",
     "text": [
      "Buddy says woof\n",
      "Lucy says woof\n"
     ]
    }
   ],
   "source": [
    "class Dog:\n",
    "    def __init__(self,name,age):\n",
    "        self.name = name\n",
    "        self.age = age\n",
    "    def bark(self):\n",
    "        print(f'{self.name} says woof')\n",
    "dog1 = Dog('Buddy',3)\n",
    "dog1.bark()\n",
    "dog2 = Dog('Lucy',4)\n",
    "dog2.bark()"
   ]
  },
  {
   "cell_type": "code",
   "execution_count": 5,
   "id": "e8f0ef29-2612-43da-9095-0705c6ea494e",
   "metadata": {},
   "outputs": [
    {
     "name": "stdout",
     "output_type": "stream",
     "text": [
      "100 is deposited, new balance is 100\n",
      "None\n",
      "funds\n",
      "None\n",
      "100\n"
     ]
    }
   ],
   "source": [
    "class BankAccount:\n",
    "    def __init__(self,owner,balance = 0):\n",
    "        self.owner = owner\n",
    "        self.balance = balance\n",
    "    def deposit(self,amount):\n",
    "        self.balance = amount\n",
    "        print(f'{amount} is deposited, new balance is {self.balance}')\n",
    "    def withdraw(self,amount):\n",
    "        if amount>self.balance:\n",
    "           print('funds')\n",
    "        else:\n",
    "            print(f'{amount} is withdraw , new balance is {self.balance}')\n",
    "    def get_balance(self):\n",
    "        return self.balance\n",
    "account = BankAccount('Kariem',10000)\n",
    "print(account.deposit(100))\n",
    "print(account.withdraw(300))\n",
    "print(account.get_balance())\n",
    "         "
   ]
  },
  {
   "cell_type": "code",
   "execution_count": 6,
   "id": "e80a7bc4-7b52-4f3f-bb53-2eed84eae7e3",
   "metadata": {},
   "outputs": [
    {
     "name": "stdout",
     "output_type": "stream",
     "text": [
      "The person will drive the bugati car\n"
     ]
    }
   ],
   "source": [
    "class Car:\n",
    "    def __init__(self,windows,doors,enginetype):\n",
    "      self.windows = windows\n",
    "      self.doors = doors\n",
    "      self.enginetype = enginetype\n",
    "    def drive(self):\n",
    "        print(f'The person will drive the {self.enginetype} car')\n",
    "car1 = Car(4,5,'bugati')\n",
    "car1.drive()"
   ]
  },
  {
   "cell_type": "code",
   "execution_count": 7,
   "id": "3912374d-c722-42fd-a272-17e796628420",
   "metadata": {},
   "outputs": [
    {
     "name": "stdout",
     "output_type": "stream",
     "text": [
      "Tesla supports True \n",
      "The person will drive the electric car\n"
     ]
    }
   ],
   "source": [
    "class Tesla(Car):\n",
    "    def __init__(self,windows,doors,enginetype,is_selfdrive):\n",
    "        super().__init__(windows,doors,enginetype)\n",
    "        self.is_selfdrive = is_selfdrive\n",
    "    def selfdriving(self):\n",
    "        print(f'Tesla supports {self.is_selfdrive} ')\n",
    "tesla1 = Tesla(4,5,'electric',True)\n",
    "tesla1.selfdriving()\n",
    "tesla1.drive()"
   ]
  },
  {
   "cell_type": "code",
   "execution_count": 8,
   "id": "a0e54747-e1c1-44e5-8c63-40fab3c2f6a3",
   "metadata": {},
   "outputs": [
    {
     "data": {
      "text/plain": [
       "'buddy says woof'"
      ]
     },
     "execution_count": 8,
     "metadata": {},
     "output_type": "execute_result"
    }
   ],
   "source": [
    "class Animal:\n",
    "    def __init__(self,name):\n",
    "        self.name = name\n",
    "    def speak(self):\n",
    "        print('Speeeks')\n",
    "class Pet:\n",
    "    def __init__(self,owner):\n",
    "        self.owner = owner\n",
    "class Dog(Animal,Pet):\n",
    "    def __init__(self,name,owner):\n",
    "        Animal.__init__(self,name)\n",
    "        Pet.__init__(self,owner)\n",
    "    def speak(self):\n",
    "        return f'{self.name} says woof'\n",
    "dog1 = Dog('buddy','Kariem')\n",
    "dog1.speak()"
   ]
  },
  {
   "cell_type": "code",
   "execution_count": 9,
   "id": "a3d215bf-33c5-4ca9-9146-aaa994873b3a",
   "metadata": {},
   "outputs": [
    {
     "name": "stdout",
     "output_type": "stream",
     "text": [
      "Woof!\n",
      "Meow!\n",
      "Woof!\n"
     ]
    }
   ],
   "source": [
    "class Animal:\n",
    "    def speak(self):\n",
    "        return 'Sound of the animal'\n",
    "class Dog:\n",
    "    def speak(self):\n",
    "        return 'Woof!'\n",
    "class Cat(Animal):\n",
    "    def speak(self):\n",
    "        return 'Meow!'\n",
    "def animalspeak(animal):\n",
    "    print(animal.speak())\n",
    "dog = Dog()\n",
    "cat = Cat()\n",
    "print(dog.speak())\n",
    "print(cat.speak())\n",
    "animalspeak(dog)"
   ]
  },
  {
   "cell_type": "code",
   "execution_count": 10,
   "id": "bc949eaa-e214-48f7-8ec3-a9eba7ec85a2",
   "metadata": {},
   "outputs": [
    {
     "name": "stdout",
     "output_type": "stream",
     "text": [
      "The area is 20\n",
      "The area is 28.259999999999998\n"
     ]
    }
   ],
   "source": [
    "class Shape:\n",
    "    def area(self):\n",
    "        return 'The area of the figure'\n",
    "class Rectangle(Shape):\n",
    "    def __init__(self,width,height):\n",
    "        self.width = width\n",
    "        self.height = height\n",
    "    def area(self):\n",
    "        return self.width * self.height\n",
    "class Circle(Shape):\n",
    "    def __init__(self,radius):\n",
    "        self.radius = radius\n",
    "    def area(self):\n",
    "        return 3.14 * self.radius * self.radius\n",
    "def print_area(Shape):\n",
    "    print(f'The area is {Shape.area()}')\n",
    "rect = Rectangle(4,5)\n",
    "cir = Circle(3)\n",
    "print_area(rect)\n",
    "print_area(cir)"
   ]
  },
  {
   "cell_type": "code",
   "execution_count": 11,
   "id": "43102879-fc24-4560-904d-4f06080eb721",
   "metadata": {},
   "outputs": [
    {
     "name": "stdout",
     "output_type": "stream",
     "text": [
      "Car enginer started\n"
     ]
    }
   ],
   "source": [
    "from abc import ABC,abstractmethod\n",
    "class Vehicle(ABC):\n",
    "    @abstractmethod\n",
    "    def start_engine(self):\n",
    "        pass\n",
    "class Car(Vehicle):\n",
    "    def start_engine(self):\n",
    "        return 'Car enginer started'\n",
    "class Motorcycle(Vehicle):\n",
    "        def start_engine(self):\n",
    "         return 'Motorcycle enginer started'\n",
    "def start_vehicle(vehicle):\n",
    "    print(vehicle.start_engine())\n",
    "car = Car()\n",
    "motorcycle = Motorcycle()\n",
    "start_vehicle(car)"
   ]
  },
  {
   "cell_type": "code",
   "execution_count": 24,
   "id": "545baf27-514b-4645-b64d-f29ceb39e6c3",
   "metadata": {},
   "outputs": [
    {
     "name": "stdout",
     "output_type": "stream",
     "text": [
      "Kariem   21\n",
      "koko\n"
     ]
    }
   ],
   "source": [
    "class Person:\n",
    "    def __init__(self,name,age,gender):\n",
    "        self.name = name\n",
    "        self.age = age\n",
    "        self.gender = gender\n",
    "def get_name(person):\n",
    "    return person.name\n",
    "person1 = Person('Kariem',21,'male')\n",
    "print(person1.name, ' ' , person1.age)\n",
    "get_name(person1)\n",
    "person2 = Person('koko',30,'male')\n",
    "print(person2.name)"
   ]
  },
  {
   "cell_type": "code",
   "execution_count": 25,
   "id": "4d446a76-b0f4-41a5-a4c2-0dd5cbaeaf2b",
   "metadata": {},
   "outputs": [
    {
     "name": "stdout",
     "output_type": "stream",
     "text": [
      "Car enginer started\n"
     ]
    }
   ],
   "source": [
    "from abc import ABC,abstractmethod\n",
    "class Vehicle(ABC):\n",
    "    @abstractmethod\n",
    "    def start_engine(self):\n",
    "        pass\n",
    "class Car(Vehicle):\n",
    "    def start_engine(self):\n",
    "        return 'Car enginer started'\n",
    "class Motorcycle(Vehicle):\n",
    "        def start_engine(self):\n",
    "         return 'Motorcycle enginer started'\n",
    "def start_vehicle(vehicle):\n",
    "    print(vehicle.start_engine())\n",
    "car = Car()\n",
    "motorcycle = Motorcycle()\n",
    "start_vehicle(car)"
   ]
  },
  {
   "cell_type": "code",
   "execution_count": 34,
   "id": "c1ba24d0-5203-4594-bdb9-0a7c5a53a397",
   "metadata": {},
   "outputs": [
    {
     "name": "stdout",
     "output_type": "stream",
     "text": [
      "Vector(6 ,8)\n",
      "Vector(-2 ,-2)\n",
      "Vector(6 ,9)\n"
     ]
    }
   ],
   "source": [
    "class Vector:\n",
    "    def __init__(self,x,y):\n",
    "        self.x = x\n",
    "        self.y = y\n",
    "    def __add__(self,other):\n",
    "        return Vector(self.x + other.x , self.y + other.y)\n",
    "    def __sub__(self,other):\n",
    "        return Vector(self.x - other.x , self.y - other.y)\n",
    "    def __mul__(self,other):\n",
    "        return Vector(self.x * other, self.y * other)\n",
    "    def __eq__(self,other):\n",
    "        return self.x == other.x and self.y == other.y\n",
    "    def __repr__(self):\n",
    "        return f'Vector({self.x} ,{self.y})'\n",
    "v1 = Vector(2,3)\n",
    "v2 = Vector(4,5)\n",
    "print(v1 + v2)\n",
    "print(v1 - v2)\n",
    "print(v1 * 3)"
   ]
  },
  {
   "cell_type": "code",
   "execution_count": 41,
   "id": "61826302-59f6-4803-a541-4402d2fa576e",
   "metadata": {},
   "outputs": [
    {
     "name": "stdin",
     "output_type": "stream",
     "text": [
      "Enter the dob 2050\n"
     ]
    },
    {
     "name": "stdout",
     "output_type": "stream",
     "text": [
      "Sorry\n"
     ]
    }
   ],
   "source": [
    "class Error(Exception):\n",
    "    pass\n",
    "class dobException(Error):\n",
    "    pass\n",
    "year = int(input('Enter the dob'))\n",
    "age = 2025 - year\n",
    "try:\n",
    " if age<= 30 and age>=20:\n",
    "    print('The age is valid')\n",
    " else:\n",
    "    raise dobException\n",
    "except dobException:\n",
    "    print('Sorry')"
   ]
  },
  {
   "cell_type": "code",
   "execution_count": null,
   "id": "8d32a5b8-668f-4b86-8c78-15e49fa818b2",
   "metadata": {},
   "outputs": [],
   "source": []
  }
 ],
 "metadata": {
  "kernelspec": {
   "display_name": "Python 3 (ipykernel)",
   "language": "python",
   "name": "python3"
  },
  "language_info": {
   "codemirror_mode": {
    "name": "ipython",
    "version": 3
   },
   "file_extension": ".py",
   "mimetype": "text/x-python",
   "name": "python",
   "nbconvert_exporter": "python",
   "pygments_lexer": "ipython3",
   "version": "3.12.6"
  }
 },
 "nbformat": 4,
 "nbformat_minor": 5
}
