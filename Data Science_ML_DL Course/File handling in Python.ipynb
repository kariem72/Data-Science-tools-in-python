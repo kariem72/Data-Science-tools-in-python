{
 "cells": [
  {
   "cell_type": "markdown",
   "id": "920aafe2-5f8b-4a0c-8f31-3d82db14286e",
   "metadata": {},
   "source": [
    "📁 File Handling in Python\n",
    "\n",
    "🟠 1. File Operations (فتح، قراءة، كتابة، إلخ)"
   ]
  },
  {
   "cell_type": "code",
   "execution_count": 2,
   "id": "f28cd94a-b154-43d2-a03d-764dc1df75c7",
   "metadata": {},
   "outputs": [
    {
     "name": "stdout",
     "output_type": "stream",
     "text": [
      "Hello, this is the first line.\n",
      "This is the second line.\n",
      "\n"
     ]
    }
   ],
   "source": [
    "# فتح الملف ex.txt في وضع الكتابة (هيمسح أي محتوى قديم ويكتب جديد)\n",
    "file = open(\"C:\\\\Users\\\\DELL\\\\Data Science_ML_DL Course\\\\ex.txt\", \"w\")\n",
    "file.write(\"Hello, this is the first line.\\n\")\n",
    "file.write(\"This is the second line.\\n\")\n",
    "file.close()\n",
    "\n",
    "# فتح الملف في وضع القراءة\n",
    "file = open(\"C:\\\\Users\\\\DELL\\\\Data Science_ML_DL Course\\\\ex.txt\", \"r\")\n",
    "content = file.read()\n",
    "print(content)\n",
    "file.close()\n",
    "\n",
    "# فتح الملف في وضع الإضافة (append)\n",
    "file = open(\"C:\\\\Users\\\\DELL\\\\Data Science_ML_DL Course\\\\ex.txt\", \"a\")\n",
    "file.write(\"This line is added later.\\n\")\n",
    "file.close()\n"
   ]
  },
  {
   "cell_type": "markdown",
   "id": "85ab451b-bdba-4321-a50f-08171e132f05",
   "metadata": {},
   "source": [
    "w: للكتابة فقط، بيمسح القديم.\n",
    "\n",
    "r: للقراءة.\n",
    "\n",
    "a: بيضيف على الموجود."
   ]
  },
  {
   "cell_type": "markdown",
   "id": "49412a35-d495-4151-ba4e-579bb529fa25",
   "metadata": {},
   "source": [
    "🟠 2. Reading line by line\n"
   ]
  },
  {
   "cell_type": "code",
   "execution_count": 3,
   "id": "d994f80a-4936-4b87-887d-fbe8382092d6",
   "metadata": {},
   "outputs": [
    {
     "name": "stdout",
     "output_type": "stream",
     "text": [
      "Hello, this is the first line.\n",
      "This is the second line.\n",
      "This line is added later.\n"
     ]
    }
   ],
   "source": [
    "file = open(\"C:\\\\Users\\\\DELL\\\\Data Science_ML_DL Course\\\\ex.txt\", \"r\")\n",
    "for line in file:\n",
    "    print(line.strip())  # strip علشان يشيل النيو لاين\n",
    "file.close()\n"
   ]
  },
  {
   "cell_type": "markdown",
   "id": "9dc68001-671c-4920-a412-99b690535626",
   "metadata": {},
   "source": [
    "🟠 3. Using with statement (الطريقة الآمنة)"
   ]
  },
  {
   "cell_type": "code",
   "execution_count": 6,
   "id": "def0a62c-1060-46b6-a0ed-a7b26ea4e9df",
   "metadata": {},
   "outputs": [
    {
     "name": "stdout",
     "output_type": "stream",
     "text": [
      "Hello, this is the first line.\n",
      "This is the second line.\n",
      "This line is added later.\n",
      "\n"
     ]
    }
   ],
   "source": [
    "with open(\"C:\\\\Users\\\\DELL\\\\Data Science_ML_DL Course\\\\ex.txt\", \"r\") as file:\n",
    "    print(file.read())\n"
   ]
  },
  {
   "cell_type": "markdown",
   "id": "29b3e1fd-c53a-437c-b808-a74340f7e0ea",
   "metadata": {},
   "source": [
    "✅ الشرح:\n",
    "\n",
    "with بتقفل الملف أوتوماتيك بعد ما تخلص."
   ]
  },
  {
   "cell_type": "markdown",
   "id": "8ffa09a7-e48a-4643-a953-5fe7790190bc",
   "metadata": {},
   "source": [
    "🟠 4. Working with File Paths using os and pathlib\n"
   ]
  },
  {
   "cell_type": "code",
   "execution_count": 9,
   "id": "9a4255b7-6c18-447c-a228-e3e57fa9efe0",
   "metadata": {},
   "outputs": [
    {
     "name": "stdout",
     "output_type": "stream",
     "text": [
      "File exists!\n",
      "True\n",
      "ex.txt\n",
      "ex\n",
      ".txt\n",
      "C:\\Users\\DELL\\Data Science_ML_DL Course\n"
     ]
    }
   ],
   "source": [
    "import os\n",
    "\n",
    "# التأكد إن الملف موجود\n",
    "path = \"C:\\\\Users\\\\DELL\\\\Data Science_ML_DL Course\\\\ex.txt\"\n",
    "if os.path.exists(path):\n",
    "    print(\"File exists!\")\n",
    "else:\n",
    "    print(\"File does not exist.\")\n",
    "\n",
    "# باستخدام pathlib (أفضل وأحدث)\n",
    "from pathlib import Path\n",
    "\n",
    "file_path = Path(\"C:/Users/DELL/Data Science_ML_DL Course/ex.txt\")\n",
    "print(file_path.exists())   # True لو موجود\n",
    "print(file_path.name)       # ex.txt\n",
    "print(file_path.stem)       # ex\n",
    "print(file_path.suffix)     # .txt\n",
    "print(file_path.parent)     # بيطبع الفولدر اللي فيه الملف\n"
   ]
  },
  {
   "cell_type": "markdown",
   "id": "a044da49-4283-420d-89f7-b65dd859ca70",
   "metadata": {},
   "source": [
    "🟠 5. Exception Handling مع الملفات"
   ]
  },
  {
   "cell_type": "code",
   "execution_count": 12,
   "id": "9b881b7b-d8fd-4e7f-82eb-bd9376ab18d4",
   "metadata": {},
   "outputs": [
    {
     "name": "stdout",
     "output_type": "stream",
     "text": [
      "Hello, this is the first line.\n",
      "This is the second line.\n",
      "This line is added later.\n",
      "\n"
     ]
    }
   ],
   "source": [
    "try:\n",
    "    with open(\"C:\\\\Users\\\\DELL\\\\Data Science_ML_DL Course\\\\ex.txt\", \"r\") as file:\n",
    "        print(file.read())\n",
    "except FileNotFoundError:\n",
    "    print(\"الملف مش موجود يا نجم!\")\n",
    "except Exception as e:\n",
    "    print(\"حصل خطأ غير متوقع:\", e)\n"
   ]
  },
  {
   "cell_type": "markdown",
   "id": "4865e985-4683-4cc5-83cf-95bac6196c5f",
   "metadata": {},
   "source": [
    "✅ الشرح:\n",
    "\n",
    "try تجرب الكود.\n",
    "\n",
    "except FileNotFoundError لو الملف مش موجود.\n",
    "\n",
    "except Exception as e لأي خطأ تاني."
   ]
  }
 ],
 "metadata": {
  "kernelspec": {
   "display_name": "Python 3 (ipykernel)",
   "language": "python",
   "name": "python3"
  },
  "language_info": {
   "codemirror_mode": {
    "name": "ipython",
    "version": 3
   },
   "file_extension": ".py",
   "mimetype": "text/x-python",
   "name": "python",
   "nbconvert_exporter": "python",
   "pygments_lexer": "ipython3",
   "version": "3.12.6"
  }
 },
 "nbformat": 4,
 "nbformat_minor": 5
}
