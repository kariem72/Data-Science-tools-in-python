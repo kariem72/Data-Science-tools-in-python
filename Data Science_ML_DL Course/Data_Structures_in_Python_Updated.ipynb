{
 "cells": [
  {
   "cell_type": "markdown",
   "id": "afdca81c",
   "metadata": {},
   "source": [
    "## 📋 Lists (القوائم)\n",
    "القائمة في بايثون هي مجموعة من العناصر ممكن نعدّل عليها. بنكتبها بين [ ].\n",
    "\n",
    "```python\n",
    "my_list = [1, 2, 3, \"hello\"]\n",
    "print(my_list[0])  # يطبع 1\n",
    "```\n",
    "\n",
    "### 🛠️ أوامر مهمة على القوائم:\n",
    "- `append()` ➜ تضيف عنصر في آخر القائمة\n",
    "- `insert(index, value)` ➜ تضيف عنصر في مكان معين\n",
    "- `remove(value)` ➜ تحذف أول ظهور للعنصر\n",
    "- `pop()` ➜ تشيل آخر عنصر\n",
    "- `sort()` ➜ ترتيب القائمة\n"
   ]
  },
  {
   "cell_type": "markdown",
   "id": "a0f78f50",
   "metadata": {},
   "source": [
    "## 📦 Tuples (الـ Tuple)\n",
    "الـ tuple شبه القائمة بس **ماينفعش نعدّل عليها**. بنكتبها بين ( ).\n",
    "\n",
    "```python\n",
    "my_tuple = (1, 2, 3)\n",
    "print(my_tuple[1])  # يطبع 2\n",
    "```\n",
    "\n",
    "- مفيدة لما تكون عايز تحفظ بيانات مش هتتغير.\n"
   ]
  },
  {
   "cell_type": "markdown",
   "id": "2b37caf4",
   "metadata": {},
   "source": [
    "## 🔘 Sets (المجموعات)\n",
    "الـ set بيخزن عناصر **من غير تكرار**، والترتيب مش مهم. بنكتبها بين { }.\n",
    "\n",
    "```python\n",
    "my_set = {1, 2, 3, 2}\n",
    "print(my_set)  # يطبع {1, 2, 3}\n",
    "```\n",
    "\n",
    "### 🛠️ أوامر مهمة:\n",
    "- `add()` ➜ يضيف عنصر\n",
    "- `remove()` ➜ يحذف عنصر (لو موجود)\n",
    "- `union()` ➜ اتحاد مجموعتين\n",
    "- `intersection()` ➜ العناصر المشتركة\n"
   ]
  },
  {
   "cell_type": "markdown",
   "id": "bbed4de1",
   "metadata": {},
   "source": [
    "## 🔑 Dictionaries (القواميس)\n",
    "القاموس فيه **مفتاح وقيمة** لكل عنصر. بنكتبها بين { }.\n",
    "\n",
    "```python\n",
    "my_dict = {\"name\": \"Kareem\", \"age\": 22}\n",
    "print(my_dict[\"name\"])  # يطبع Kareem\n",
    "```\n",
    "\n",
    "### 🛠️ أوامر مهمة:\n",
    "- `get(\"key\")` ➜ يرجع القيمة للمفتاح\n",
    "- `keys()` ➜ يجيب كل المفاتيح\n",
    "- `values()` ➜ يجيب كل القيم\n",
    "- `items()` ➜ يجيب المفاتيح والقيم مع بعض\n",
    "- `update()` ➜ يعدل أو يضيف مفتاح جديد\n"
   ]
  },
  {
   "cell_type": "code",
   "execution_count": 1,
   "id": "4f509cbb-8509-4a92-9bca-c47b24f4023e",
   "metadata": {},
   "outputs": [
    {
     "name": "stdout",
     "output_type": "stream",
     "text": [
      "['Kariem', 'Mohamed', 'Samir', 1, 2, 3, 4, 5]\n"
     ]
    }
   ],
   "source": [
    "names = ['Kariem','Mohamed','Samir',1,2,3,4,5]\n",
    "print(names)"
   ]
  },
  {
   "cell_type": "markdown",
   "id": "ee43c543",
   "metadata": {},
   "source": [
    "# ✏️ شرح الكود:\n",
    "- الكود هنا بيتعامل مع List.\n",
    "- بنستخدم print() علشان نطبع الناتج (خلي اللي جواه بالإنجليزي).\n"
   ]
  },
  {
   "cell_type": "code",
   "execution_count": 2,
   "id": "9bdc4526-b93f-453e-93ae-a14edc537e81",
   "metadata": {},
   "outputs": [
    {
     "data": {
      "text/plain": [
       "['Manzana', 'Naranja', 'Pandis', 'Peras']"
      ]
     },
     "execution_count": 2,
     "metadata": {},
     "output_type": "execute_result"
    }
   ],
   "source": [
    "fruits = ['Manzana','Naranja','Pandis','Peras']\n",
    "fruits"
   ]
  },
  {
   "cell_type": "markdown",
   "id": "779cff4f",
   "metadata": {},
   "source": [
    "# ✏️ شرح الكود:\n",
    "- الكود هنا بيتعامل مع List.\n"
   ]
  },
  {
   "cell_type": "code",
   "execution_count": 3,
   "id": "5cba2645-10c1-49aa-b425-afc2eb090fe5",
   "metadata": {},
   "outputs": [
    {
     "data": {
      "text/plain": [
       "'Manzana'"
      ]
     },
     "execution_count": 3,
     "metadata": {},
     "output_type": "execute_result"
    }
   ],
   "source": [
    "fruits[0]"
   ]
  },
  {
   "cell_type": "markdown",
   "id": "e1c02541",
   "metadata": {},
   "source": [
    "# ✏️ شرح الكود:\n",
    "- الكود هنا بيتعامل مع List.\n"
   ]
  },
  {
   "cell_type": "code",
   "execution_count": 4,
   "id": "e643bce7-c626-46a6-812b-27ddbc0c7578",
   "metadata": {},
   "outputs": [
    {
     "data": {
      "text/plain": [
       "'Pandis'"
      ]
     },
     "execution_count": 4,
     "metadata": {},
     "output_type": "execute_result"
    }
   ],
   "source": [
    "fruits[2]"
   ]
  },
  {
   "cell_type": "markdown",
   "id": "768f20f8",
   "metadata": {},
   "source": [
    "# ✏️ شرح الكود:\n",
    "- الكود هنا بيتعامل مع List.\n"
   ]
  },
  {
   "cell_type": "code",
   "execution_count": 5,
   "id": "9acc3933-d12c-4551-985c-8178c7bb959b",
   "metadata": {},
   "outputs": [
    {
     "data": {
      "text/plain": [
       "'Peras'"
      ]
     },
     "execution_count": 5,
     "metadata": {},
     "output_type": "execute_result"
    }
   ],
   "source": [
    "fruits[-1]"
   ]
  },
  {
   "cell_type": "markdown",
   "id": "3b9c4ecc",
   "metadata": {},
   "source": [
    "# ✏️ شرح الكود:\n",
    "- الكود هنا بيتعامل مع List.\n"
   ]
  },
  {
   "cell_type": "code",
   "execution_count": 6,
   "id": "2be96dcd-beff-40d4-8750-fd49d09c1f5b",
   "metadata": {},
   "outputs": [
    {
     "data": {
      "text/plain": [
       "['Naranja', 'Pandis', 'Peras']"
      ]
     },
     "execution_count": 6,
     "metadata": {},
     "output_type": "execute_result"
    }
   ],
   "source": [
    "fruits[1:]"
   ]
  },
  {
   "cell_type": "markdown",
   "id": "7e1d3f51",
   "metadata": {},
   "source": [
    "# ✏️ شرح الكود:\n",
    "- الكود هنا بيتعامل مع List.\n"
   ]
  },
  {
   "cell_type": "code",
   "execution_count": 7,
   "id": "5c539943-e7d1-4a16-b99e-0192505422cf",
   "metadata": {},
   "outputs": [
    {
     "data": {
      "text/plain": [
       "['Pandis']"
      ]
     },
     "execution_count": 7,
     "metadata": {},
     "output_type": "execute_result"
    }
   ],
   "source": [
    "fruits[2:3]"
   ]
  },
  {
   "cell_type": "markdown",
   "id": "9c79dd9f",
   "metadata": {},
   "source": [
    "# ✏️ شرح الكود:\n",
    "- الكود هنا بيتعامل مع List.\n"
   ]
  },
  {
   "cell_type": "code",
   "execution_count": 8,
   "id": "1519a0f8-b2cc-4d3a-bd82-c361fe4b3f8a",
   "metadata": {},
   "outputs": [
    {
     "data": {
      "text/plain": [
       "['Manzana', 'Watermelon', 'Pandis', 'Peras']"
      ]
     },
     "execution_count": 8,
     "metadata": {},
     "output_type": "execute_result"
    }
   ],
   "source": [
    "fruits[1] = 'Watermelon'\n",
    "fruits"
   ]
  },
  {
   "cell_type": "markdown",
   "id": "e69469de",
   "metadata": {},
   "source": [
    "# ✏️ شرح الكود:\n",
    "- الكود هنا بيتعامل مع List.\n"
   ]
  },
  {
   "cell_type": "code",
   "execution_count": 9,
   "id": "d35cd4e2-e571-4878-ae13-290a0ac116f5",
   "metadata": {},
   "outputs": [
    {
     "data": {
      "text/plain": [
       "['Manzana', 'Watermelon', 'Pandis', 'Peras', 'orange']"
      ]
     },
     "execution_count": 9,
     "metadata": {},
     "output_type": "execute_result"
    }
   ],
   "source": [
    "fruits.append('orange')\n",
    "fruits"
   ]
  },
  {
   "cell_type": "code",
   "execution_count": 10,
   "id": "e58c6914-70e3-42a0-8cd8-7f4cce282b87",
   "metadata": {},
   "outputs": [
    {
     "data": {
      "text/plain": [
       "['Manzana', 'banana', 'Watermelon', 'Pandis', 'Peras', 'orange']"
      ]
     },
     "execution_count": 10,
     "metadata": {},
     "output_type": "execute_result"
    }
   ],
   "source": [
    "fruits.insert(1,'banana')\n",
    "fruits"
   ]
  },
  {
   "cell_type": "code",
   "execution_count": 11,
   "id": "942b5cfc-73aa-4d81-a62b-23e0f76bb6d7",
   "metadata": {},
   "outputs": [],
   "source": [
    "fruits.remove('banana')"
   ]
  },
  {
   "cell_type": "code",
   "execution_count": 12,
   "id": "9e5e4cfa-9fe7-4cf9-8c71-ccd804f4e76e",
   "metadata": {},
   "outputs": [
    {
     "data": {
      "text/plain": [
       "['Manzana', 'Watermelon', 'Pandis', 'Peras', 'orange']"
      ]
     },
     "execution_count": 12,
     "metadata": {},
     "output_type": "execute_result"
    }
   ],
   "source": [
    "fruits"
   ]
  },
  {
   "cell_type": "code",
   "execution_count": 13,
   "id": "831e5d56-8cf0-4b75-ae14-7f06737aed70",
   "metadata": {},
   "outputs": [
    {
     "data": {
      "text/plain": [
       "['Manzana', 'Watermelon', 'Pandis', 'Peras']"
      ]
     },
     "execution_count": 13,
     "metadata": {},
     "output_type": "execute_result"
    }
   ],
   "source": [
    "fruits.pop()\n",
    "fruits"
   ]
  },
  {
   "cell_type": "code",
   "execution_count": 14,
   "id": "487a7978-f254-4907-bce1-db3979c1d6f1",
   "metadata": {},
   "outputs": [
    {
     "data": {
      "text/plain": [
       "0"
      ]
     },
     "execution_count": 14,
     "metadata": {},
     "output_type": "execute_result"
    }
   ],
   "source": [
    "fruits.index('Manzana')"
   ]
  },
  {
   "cell_type": "code",
   "execution_count": 15,
   "id": "9a7e18f9-5361-4de1-88c3-9983b2163569",
   "metadata": {},
   "outputs": [
    {
     "data": {
      "text/plain": [
       "1"
      ]
     },
     "execution_count": 15,
     "metadata": {},
     "output_type": "execute_result"
    }
   ],
   "source": [
    "fruits.count('Pandis')"
   ]
  },
  {
   "cell_type": "code",
   "execution_count": 16,
   "id": "0423edbb-3339-47c7-b3db-c0d392b11645",
   "metadata": {},
   "outputs": [
    {
     "data": {
      "text/plain": [
       "['Manzana', 'Pandis', 'Peras', 'Watermelon']"
      ]
     },
     "execution_count": 16,
     "metadata": {},
     "output_type": "execute_result"
    }
   ],
   "source": [
    "fruits.sort()\n",
    "fruits"
   ]
  },
  {
   "cell_type": "code",
   "execution_count": 17,
   "id": "69aa8e5c-2e8a-4b09-b52d-39da136ebf72",
   "metadata": {},
   "outputs": [
    {
     "data": {
      "text/plain": [
       "['Watermelon', 'Peras', 'Pandis', 'Manzana']"
      ]
     },
     "execution_count": 17,
     "metadata": {},
     "output_type": "execute_result"
    }
   ],
   "source": [
    "fruits.reverse()\n",
    "fruits"
   ]
  },
  {
   "cell_type": "code",
   "execution_count": 18,
   "id": "891ab83b-ad1a-4441-a434-b64891016d0f",
   "metadata": {},
   "outputs": [
    {
     "name": "stdout",
     "output_type": "stream",
     "text": [
      "[3, 4, 5]\n",
      "[1, 2, 3, 4, 5]\n",
      "[3, 4, 5, 6, 7, 8, 9, 10]\n",
      "[1, 3, 5, 7, 9]\n",
      "[10, 9, 8, 7, 6, 5, 4, 3, 2, 1]\n"
     ]
    }
   ],
   "source": [
    "numbers = [1,2,3,4,5,6,7,8,9,10]\n",
    "print(numbers[2:5])\n",
    "print(numbers[:5])\n",
    "print(numbers[2:])\n",
    "print(numbers[::2])\n",
    "print(numbers[::-1])"
   ]
  },
  {
   "cell_type": "markdown",
   "id": "18bf68ba",
   "metadata": {},
   "source": [
    "# ✏️ شرح الكود:\n",
    "- الكود هنا بيتعامل مع List.\n",
    "\n"
   ]
  },
  {
   "cell_type": "code",
   "execution_count": 19,
   "id": "1909e4b5-c962-4b42-a81d-0f8b5fb81264",
   "metadata": {},
   "outputs": [
    {
     "name": "stdout",
     "output_type": "stream",
     "text": [
      "Watermelon\n",
      "Peras\n",
      "Pandis\n",
      "Manzana\n"
     ]
    }
   ],
   "source": [
    "for fruit in fruits:\n",
    "    print(fruit)"
   ]
  },
  {
   "cell_type": "markdown",
   "id": "86234d9d",
   "metadata": {},
   "source": [
    "# ✏️ شرح الكود:\n"
   ]
  },
  {
   "cell_type": "code",
   "execution_count": 20,
   "id": "3ebfe1bb-f513-458c-8872-44b7a315f179",
   "metadata": {},
   "outputs": [
    {
     "name": "stdout",
     "output_type": "stream",
     "text": [
      "1\n",
      "2\n",
      "3\n",
      "4\n",
      "5\n",
      "6\n",
      "7\n",
      "8\n",
      "9\n",
      "10\n"
     ]
    }
   ],
   "source": [
    "for number in numbers:\n",
    "    print(number)"
   ]
  },
  {
   "cell_type": "markdown",
   "id": "a126fe70",
   "metadata": {},
   "source": [
    "# ✏️ شرح الكود:\n"
   ]
  },
  {
   "cell_type": "code",
   "execution_count": 21,
   "id": "831f0655-2c89-4f51-98ba-ba6d84de652b",
   "metadata": {},
   "outputs": [
    {
     "name": "stdout",
     "output_type": "stream",
     "text": [
      "0 1\n",
      "1 2\n",
      "2 3\n",
      "3 4\n",
      "4 5\n",
      "5 6\n",
      "6 7\n",
      "7 8\n",
      "8 9\n",
      "9 10\n"
     ]
    }
   ],
   "source": [
    "for index,number in enumerate(numbers):\n",
    "    print(index,number)"
   ]
  },
  {
   "cell_type": "markdown",
   "id": "ae61c043",
   "metadata": {},
   "source": [
    "# ✏️ شرح الكود:\n"
   ]
  },
  {
   "cell_type": "code",
   "execution_count": 22,
   "id": "c85f2138-6b31-4c56-b000-952d88331c83",
   "metadata": {},
   "outputs": [
    {
     "name": "stdout",
     "output_type": "stream",
     "text": [
      "[0, 1, 4, 9, 16, 25, 36, 49, 64, 81]\n"
     ]
    }
   ],
   "source": [
    "lst = []\n",
    "for x in range(10):\n",
    "    lst.append(x**2)\n",
    "print(lst)"
   ]
  },
  {
   "cell_type": "markdown",
   "id": "79ab78e6",
   "metadata": {},
   "source": [
    "# ✏️ شرح الكود:\n",
    "- الكود هنا بيتعامل مع List.\n"
   ]
  },
  {
   "cell_type": "code",
   "execution_count": 23,
   "id": "559c71c4-74e4-4232-8b33-3aa164105512",
   "metadata": {},
   "outputs": [
    {
     "data": {
      "text/plain": [
       "[0, 1, 4, 9, 16, 25, 36, 49, 64, 81]"
      ]
     },
     "execution_count": 23,
     "metadata": {},
     "output_type": "execute_result"
    }
   ],
   "source": [
    "[x**2 for x in range(10)]"
   ]
  },
  {
   "cell_type": "markdown",
   "id": "4057d9fc",
   "metadata": {},
   "source": [
    "# ✏️ شرح الكود:\n",
    "- الكود هنا بيتعامل مع List.\n"
   ]
  },
  {
   "cell_type": "code",
   "execution_count": 24,
   "id": "43cad108-4ced-4af5-aa41-0414d9ad31c2",
   "metadata": {},
   "outputs": [
    {
     "name": "stdout",
     "output_type": "stream",
     "text": [
      "[0, 1, 4, 9, 16, 25, 36, 49, 64, 81]\n"
     ]
    }
   ],
   "source": [
    "square = [num **2 for num in range(10)]\n",
    "print(square)"
   ]
  },
  {
   "cell_type": "markdown",
   "id": "349e5850",
   "metadata": {},
   "source": [
    "# ✏️ شرح الكود:\n",
    "- الكود هنا بيتعامل مع List.\n"
   ]
  },
  {
   "cell_type": "code",
   "execution_count": 25,
   "id": "adcbb3bc-8b6f-44fd-9769-3971dd0c85c5",
   "metadata": {},
   "outputs": [
    {
     "name": "stdout",
     "output_type": "stream",
     "text": [
      "[0, 2, 4, 6, 8]\n"
     ]
    }
   ],
   "source": [
    "lst = []\n",
    "for i in range(10):\n",
    "    if i%2 == 0:\n",
    "      lst.append(i)\n",
    "print(lst)"
   ]
  },
  {
   "cell_type": "markdown",
   "id": "aaf2df71",
   "metadata": {},
   "source": [
    "# ✏️ شرح الكود:\n",
    "- الكود هنا بيتعامل مع List.\n"
   ]
  },
  {
   "cell_type": "code",
   "execution_count": 26,
   "id": "fea594dd-ec68-4e89-a246-358f13e54227",
   "metadata": {},
   "outputs": [
    {
     "name": "stdout",
     "output_type": "stream",
     "text": [
      "[0, 2, 4, 6, 8]\n"
     ]
    }
   ],
   "source": [
    "evennumbers = [num for num in range(10) if num %2 ==0]\n",
    "print(evennumbers)"
   ]
  },
  {
   "cell_type": "markdown",
   "id": "b57edf7e",
   "metadata": {},
   "source": [
    "# ✏️ شرح الكود:\n",
    "- الكود هنا بيتعامل مع List.\n"
   ]
  },
  {
   "cell_type": "code",
   "execution_count": 27,
   "id": "1e38029d-f552-452a-8524-4b8739bde8bd",
   "metadata": {},
   "outputs": [
    {
     "name": "stdout",
     "output_type": "stream",
     "text": [
      "[[1, 'a'], [1, 'b'], [1, 'c'], [1, 'd'], [2, 'a'], [2, 'b'], [2, 'c'], [2, 'd'], [3, 'a'], [3, 'b'], [3, 'c'], [3, 'd'], [4, 'a'], [4, 'b'], [4, 'c'], [4, 'd']]\n"
     ]
    }
   ],
   "source": [
    "lst1=[1,2,3,4]\n",
    "lst2=['a','b','c','d']\n",
    "pair=[[i,j]for i in lst1 for j in lst2]\n",
    "print(pair)"
   ]
  },
  {
   "cell_type": "markdown",
   "id": "86147264",
   "metadata": {},
   "source": [
    "# ✏️ شرح الكود:\n",
    "- الكود هنا بيتعامل مع List.\n"
   ]
  },
  {
   "cell_type": "code",
   "execution_count": 28,
   "id": "e0d139d9-09a5-4b00-91ae-85ed330b2da1",
   "metadata": {},
   "outputs": [
    {
     "data": {
      "text/plain": [
       "4"
      ]
     },
     "execution_count": 28,
     "metadata": {},
     "output_type": "execute_result"
    }
   ],
   "source": [
    "len(lst2)"
   ]
  },
  {
   "cell_type": "code",
   "execution_count": 29,
   "id": "feb1ac5f-546c-4904-90ff-75ca6379a3a1",
   "metadata": {},
   "outputs": [
    {
     "name": "stdout",
     "output_type": "stream",
     "text": [
      "()\n"
     ]
    }
   ],
   "source": [
    "empty_tuple = ()\n",
    "print(empty_tuple)"
   ]
  },
  {
   "cell_type": "markdown",
   "id": "22328457",
   "metadata": {},
   "source": [
    "# ✏️ شرح الكود:\n",
    "- ده مثال على Tuple.\n"
   ]
  },
  {
   "cell_type": "code",
   "execution_count": 30,
   "id": "7276ebe6-8275-4ee6-bfca-98a60dd94869",
   "metadata": {},
   "outputs": [
    {
     "data": {
      "text/plain": [
       "(1, 2, 3, 4, 5, 6)"
      ]
     },
     "execution_count": 30,
     "metadata": {},
     "output_type": "execute_result"
    }
   ],
   "source": [
    "numbers = tuple([1,2,3,4,5,6])\n",
    "numbers"
   ]
  },
  {
   "cell_type": "markdown",
   "id": "b9ac4fe2",
   "metadata": {},
   "source": [
    "# ✏️ شرح الكود:\n",
    "- الكود هنا بيتعامل مع List.\n",
    "- ده مثال على Tuple.\n"
   ]
  },
  {
   "cell_type": "code",
   "execution_count": 31,
   "id": "f249ede6-51e0-412c-8d68-516a2f56d8db",
   "metadata": {},
   "outputs": [
    {
     "data": {
      "text/plain": [
       "(1, 'Kariem', 3.14, True)"
      ]
     },
     "execution_count": 31,
     "metadata": {},
     "output_type": "execute_result"
    }
   ],
   "source": [
    "mixedtuple = (1,'Kariem',3.14,True)\n",
    "mixedtuple"
   ]
  },
  {
   "cell_type": "markdown",
   "id": "0f29a47e",
   "metadata": {},
   "source": [
    "# ✏️ شرح الكود:\n",
    "- ده مثال على Tuple.\n"
   ]
  },
  {
   "cell_type": "code",
   "execution_count": 32,
   "id": "67e08edd-3dc6-4c45-8358-1dce7aa1562c",
   "metadata": {},
   "outputs": [
    {
     "data": {
      "text/plain": [
       "(1, 2, 3, 4, 5, 6)"
      ]
     },
     "execution_count": 32,
     "metadata": {},
     "output_type": "execute_result"
    }
   ],
   "source": [
    "numbers"
   ]
  },
  {
   "cell_type": "code",
   "execution_count": 33,
   "id": "8f9fce9e-eee2-40e9-97c0-d8c02b407dd0",
   "metadata": {},
   "outputs": [
    {
     "data": {
      "text/plain": [
       "1"
      ]
     },
     "execution_count": 33,
     "metadata": {},
     "output_type": "execute_result"
    }
   ],
   "source": [
    "numbers[0]"
   ]
  },
  {
   "cell_type": "markdown",
   "id": "7e569c47",
   "metadata": {},
   "source": [
    "# ✏️ شرح الكود:\n",
    "- الكود هنا بيتعامل مع List.\n"
   ]
  },
  {
   "cell_type": "code",
   "execution_count": 34,
   "id": "f02697b1-5e55-4fd0-8aef-f25130129387",
   "metadata": {},
   "outputs": [
    {
     "data": {
      "text/plain": [
       "5"
      ]
     },
     "execution_count": 34,
     "metadata": {},
     "output_type": "execute_result"
    }
   ],
   "source": [
    "numbers[4]"
   ]
  },
  {
   "cell_type": "markdown",
   "id": "adeb2d6a",
   "metadata": {},
   "source": [
    "# ✏️ شرح الكود:\n",
    "- الكود هنا بيتعامل مع List.\n"
   ]
  },
  {
   "cell_type": "code",
   "execution_count": 35,
   "id": "916484be-9c68-4650-88a0-37917173898b",
   "metadata": {},
   "outputs": [
    {
     "data": {
      "text/plain": [
       "5"
      ]
     },
     "execution_count": 35,
     "metadata": {},
     "output_type": "execute_result"
    }
   ],
   "source": [
    "numbers[-2]"
   ]
  },
  {
   "cell_type": "markdown",
   "id": "f31cb7f0",
   "metadata": {},
   "source": [
    "# ✏️ شرح الكود:\n",
    "- الكود هنا بيتعامل مع List.\n"
   ]
  },
  {
   "cell_type": "code",
   "execution_count": 36,
   "id": "ff254a58-b1b0-44a3-aca8-bedb64469f95",
   "metadata": {},
   "outputs": [
    {
     "data": {
      "text/plain": [
       "(1, 2, 3, 4, 5, 6)"
      ]
     },
     "execution_count": 36,
     "metadata": {},
     "output_type": "execute_result"
    }
   ],
   "source": [
    "numbers[::1]"
   ]
  },
  {
   "cell_type": "markdown",
   "id": "f1f89a41",
   "metadata": {},
   "source": [
    "# ✏️ شرح الكود:\n",
    "- الكود هنا بيتعامل مع List.\n"
   ]
  },
  {
   "cell_type": "code",
   "execution_count": 37,
   "id": "9848cdb0-beeb-45a9-9c81-ddca6dacb16e",
   "metadata": {},
   "outputs": [
    {
     "name": "stdout",
     "output_type": "stream",
     "text": [
      "(1, 2, 3, 4, 5, 6, 1, 'Kariem', 3.14, True)\n"
     ]
    }
   ],
   "source": [
    "conc = numbers + mixedtuple\n",
    "print(conc)"
   ]
  },
  {
   "cell_type": "markdown",
   "id": "06ef5e80",
   "metadata": {},
   "source": [
    "# ✏️ شرح الكود:\n"
   ]
  },
  {
   "cell_type": "code",
   "execution_count": 38,
   "id": "55459481-654a-4186-a884-39f7bdd612ac",
   "metadata": {},
   "outputs": [
    {
     "data": {
      "text/plain": [
       "(1, 'Kariem', 3.14, True, 1, 'Kariem', 3.14, True, 1, 'Kariem', 3.14, True)"
      ]
     },
     "execution_count": 38,
     "metadata": {},
     "output_type": "execute_result"
    }
   ],
   "source": [
    "mixedtuple*3"
   ]
  },
  {
   "cell_type": "code",
   "execution_count": 39,
   "id": "07c77d5e-09a6-41e8-999f-84ac82164660",
   "metadata": {},
   "outputs": [
    {
     "data": {
      "text/plain": [
       "(1, 2, 3, 4, 5, 6, 1, 2, 3, 4, 5, 6, 1, 2, 3, 4, 5, 6)"
      ]
     },
     "execution_count": 39,
     "metadata": {},
     "output_type": "execute_result"
    }
   ],
   "source": [
    "numbers*3"
   ]
  },
  {
   "cell_type": "code",
   "execution_count": 40,
   "id": "194cb4ec-3701-47dc-8eba-a12bba496730",
   "metadata": {},
   "outputs": [
    {
     "name": "stdout",
     "output_type": "stream",
     "text": [
      "[1, 2, 3, 4, 5]\n"
     ]
    }
   ],
   "source": [
    "lst = [1,2,3,4,5]\n",
    "print(lst)"
   ]
  },
  {
   "cell_type": "markdown",
   "id": "7bef459e",
   "metadata": {},
   "source": [
    "# ✏️ شرح الكود:\n",
    "- الكود هنا بيتعامل مع List.\n"
   ]
  },
  {
   "cell_type": "code",
   "execution_count": 41,
   "id": "d213b4e4-0c7e-4a57-9c48-6cef3dfee228",
   "metadata": {},
   "outputs": [
    {
     "data": {
      "text/plain": [
       "[1, 'Kariem', 3, 4, 5]"
      ]
     },
     "execution_count": 41,
     "metadata": {},
     "output_type": "execute_result"
    }
   ],
   "source": [
    "lst[1] = 'Kariem'\n",
    "lst"
   ]
  },
  {
   "cell_type": "markdown",
   "id": "979c9fa2",
   "metadata": {},
   "source": [
    "# ✏️ شرح الكود:\n",
    "- الكود هنا بيتعامل مع List.\n"
   ]
  },
  {
   "cell_type": "code",
   "execution_count": 42,
   "id": "40ab5107-dd11-411b-9909-8ce20fd39a6d",
   "metadata": {},
   "outputs": [
    {
     "data": {
      "text/plain": [
       "1"
      ]
     },
     "execution_count": 42,
     "metadata": {},
     "output_type": "execute_result"
    }
   ],
   "source": [
    "numbers.count(1)"
   ]
  },
  {
   "cell_type": "code",
   "execution_count": 43,
   "id": "ffdcc2c9-2e67-4be5-8d35-9711f987e450",
   "metadata": {},
   "outputs": [
    {
     "data": {
      "text/plain": [
       "3"
      ]
     },
     "execution_count": 43,
     "metadata": {},
     "output_type": "execute_result"
    }
   ],
   "source": [
    "numbers.index(4)"
   ]
  },
  {
   "cell_type": "code",
   "execution_count": 44,
   "id": "aeff4aae-b603-4c07-a65e-4f52a6186b84",
   "metadata": {},
   "outputs": [
    {
     "name": "stdout",
     "output_type": "stream",
     "text": [
      "(1, 'Hello', 3.14)\n"
     ]
    }
   ],
   "source": [
    "packed_tuple = 1,'Hello',3.14\n",
    "print(packed_tuple)"
   ]
  },
  {
   "cell_type": "markdown",
   "id": "a61ce3f1",
   "metadata": {},
   "source": [
    "# ✏️ شرح الكود:\n",
    "- ده مثال على Tuple.\n"
   ]
  },
  {
   "cell_type": "code",
   "execution_count": 45,
   "id": "61a060c9-5c6d-4331-a8b1-4c8c8e33709c",
   "metadata": {},
   "outputs": [
    {
     "name": "stdout",
     "output_type": "stream",
     "text": [
      "1\n",
      "Hello\n",
      "3.14\n"
     ]
    }
   ],
   "source": [
    "a,b,c = packed_tuple\n",
    "print(a)\n",
    "print(b)\n",
    "print(c)"
   ]
  },
  {
   "cell_type": "markdown",
   "id": "3bbbf80c",
   "metadata": {},
   "source": [
    "# ✏️ شرح الكود:\n"
   ]
  },
  {
   "cell_type": "code",
   "execution_count": 46,
   "id": "9ddd7cb7-0e6b-4346-80c9-500d4d24f0fa",
   "metadata": {},
   "outputs": [
    {
     "name": "stdout",
     "output_type": "stream",
     "text": [
      "1\n",
      "[2, 3, 4, 5]\n",
      "6\n"
     ]
    }
   ],
   "source": [
    "numbers = (1,2,3,4,5,6)\n",
    "first,*middle,last = numbers\n",
    "print(first)\n",
    "print(middle)\n",
    "print(last)"
   ]
  },
  {
   "cell_type": "markdown",
   "id": "14d45a07",
   "metadata": {},
   "source": [
    "# ✏️ شرح الكود:\n"
   ]
  },
  {
   "cell_type": "code",
   "execution_count": 47,
   "id": "ec809f43-b4ed-4e89-9aa4-fe11899b629e",
   "metadata": {},
   "outputs": [
    {
     "data": {
      "text/plain": [
       "[[1, 2, 3, 4], [6, 7, 8, 9], (1, 'hello', 3.14, 'c')]"
      ]
     },
     "execution_count": 47,
     "metadata": {},
     "output_type": "execute_result"
    }
   ],
   "source": [
    "lst = [[1,2,3,4],[6,7,8,9],(1,'hello',3.14,'c')]\n",
    "lst"
   ]
  },
  {
   "cell_type": "markdown",
   "id": "18229082",
   "metadata": {},
   "source": [
    "# ✏️ شرح الكود:\n",
    "- الكود هنا بيتعامل مع List.\n"
   ]
  },
  {
   "cell_type": "code",
   "execution_count": 48,
   "id": "7f5199c9-8a04-4406-91b6-9804db0f44c4",
   "metadata": {},
   "outputs": [
    {
     "data": {
      "text/plain": [
       "3"
      ]
     },
     "execution_count": 48,
     "metadata": {},
     "output_type": "execute_result"
    }
   ],
   "source": [
    "lst[0][2]"
   ]
  },
  {
   "cell_type": "markdown",
   "id": "2908b33b",
   "metadata": {},
   "source": [
    "# ✏️ شرح الكود:\n",
    "- الكود هنا بيتعامل مع List.\n"
   ]
  },
  {
   "cell_type": "code",
   "execution_count": 49,
   "id": "19ed47cc-b854-4986-aa96-d823fddc8099",
   "metadata": {},
   "outputs": [
    {
     "data": {
      "text/plain": [
       "3"
      ]
     },
     "execution_count": 49,
     "metadata": {},
     "output_type": "execute_result"
    }
   ],
   "source": [
    "nested_tuple = ((1,2,3),('a','b','c'),(True,False))\n",
    "nested_tuple[0][2]"
   ]
  },
  {
   "cell_type": "markdown",
   "id": "c5fbe3d6",
   "metadata": {},
   "source": [
    "# ✏️ شرح الكود:\n",
    "- الكود هنا بيتعامل مع List.\n",
    "- ده مثال على Tuple.\n"
   ]
  },
  {
   "cell_type": "code",
   "execution_count": 50,
   "id": "35eac1f7-2a28-4356-b35a-de182531e96d",
   "metadata": {},
   "outputs": [
    {
     "name": "stdout",
     "output_type": "stream",
     "text": [
      "1 2 3 \n",
      "a b c \n",
      "True False \n"
     ]
    }
   ],
   "source": [
    "for sub_tuple in nested_tuple:\n",
    "    for item in sub_tuple:\n",
    "        print(item,end = ' ')\n",
    "    print()"
   ]
  },
  {
   "cell_type": "markdown",
   "id": "b7230f52",
   "metadata": {},
   "source": [
    "# ✏️ شرح الكود:\n"
   ]
  },
  {
   "cell_type": "code",
   "execution_count": 51,
   "id": "78fbbfe0-45c5-4544-ada2-6a03fb8ba450",
   "metadata": {},
   "outputs": [
    {
     "data": {
      "text/plain": [
       "set"
      ]
     },
     "execution_count": 51,
     "metadata": {},
     "output_type": "execute_result"
    }
   ],
   "source": [
    "my_set = {1,2,3,4,5}\n",
    "type(my_set)"
   ]
  },
  {
   "cell_type": "markdown",
   "id": "4b0e0a18",
   "metadata": {},
   "source": [
    "# ✏️ شرح الكود:\n",
    "- الكود ده شغال على Set.\n"
   ]
  },
  {
   "cell_type": "code",
   "execution_count": 52,
   "id": "ecdc2e25-e7b6-4a91-9a7c-1a40a86cbca7",
   "metadata": {},
   "outputs": [
    {
     "data": {
      "text/plain": [
       "set"
      ]
     },
     "execution_count": 52,
     "metadata": {},
     "output_type": "execute_result"
    }
   ],
   "source": [
    "myemptyset=set()\n",
    "type(myemptyset)"
   ]
  },
  {
   "cell_type": "code",
   "execution_count": 53,
   "id": "416b8681-ad68-4e72-be4a-b1187e009eeb",
   "metadata": {},
   "outputs": [
    {
     "data": {
      "text/plain": [
       "{1, 2, 3, 4, 5, 7}"
      ]
     },
     "execution_count": 53,
     "metadata": {},
     "output_type": "execute_result"
    }
   ],
   "source": [
    "my_set.add(7)\n",
    "my_set"
   ]
  },
  {
   "cell_type": "code",
   "execution_count": 54,
   "id": "38e8a32b-2f3e-4a73-8824-e9db990871ca",
   "metadata": {},
   "outputs": [
    {
     "data": {
      "text/plain": [
       "{1, 2, 4, 5, 7}"
      ]
     },
     "execution_count": 54,
     "metadata": {},
     "output_type": "execute_result"
    }
   ],
   "source": [
    "my_set.remove(3)\n",
    "my_set"
   ]
  },
  {
   "cell_type": "code",
   "execution_count": 55,
   "id": "5dfe3047-9cdd-4d4b-8dcf-2f102f0587f0",
   "metadata": {},
   "outputs": [
    {
     "data": {
      "text/plain": [
       "{1, 2, 4, 5, 7}"
      ]
     },
     "execution_count": 55,
     "metadata": {},
     "output_type": "execute_result"
    }
   ],
   "source": [
    "my_set.add(5)\n",
    "my_set"
   ]
  },
  {
   "cell_type": "code",
   "execution_count": 56,
   "id": "6722920b-b8b7-4b7f-b1a6-5fdc18f923b4",
   "metadata": {},
   "outputs": [
    {
     "data": {
      "text/plain": [
       "{2, 4, 5, 7}"
      ]
     },
     "execution_count": 56,
     "metadata": {},
     "output_type": "execute_result"
    }
   ],
   "source": [
    "my_set.discard(1)\n",
    "my_set"
   ]
  },
  {
   "cell_type": "code",
   "execution_count": 57,
   "id": "f7f93e43-8f9c-4c21-8578-5a6b23df4895",
   "metadata": {},
   "outputs": [
    {
     "data": {
      "text/plain": [
       "{4, 5, 7}"
      ]
     },
     "execution_count": 57,
     "metadata": {},
     "output_type": "execute_result"
    }
   ],
   "source": [
    "my_set.pop()\n",
    "my_set"
   ]
  },
  {
   "cell_type": "code",
   "execution_count": 58,
   "id": "6d35b85e-43bd-4311-8719-928fbbe78473",
   "metadata": {},
   "outputs": [
    {
     "name": "stdout",
     "output_type": "stream",
     "text": [
      "True\n"
     ]
    }
   ],
   "source": [
    "myset = {1,2,3,4,5}\n",
    "print(3 in myset)"
   ]
  },
  {
   "cell_type": "markdown",
   "id": "d11ce293",
   "metadata": {},
   "source": [
    "# ✏️ شرح الكود:\n",
    "- الكود ده شغال على Set.\n"
   ]
  },
  {
   "cell_type": "code",
   "execution_count": 59,
   "id": "ffbe3d1f-85da-4e3b-a867-45364eb08461",
   "metadata": {},
   "outputs": [
    {
     "name": "stdout",
     "output_type": "stream",
     "text": [
      "{1, 2, 3, 4, 5, 6, 7, 8, 9}\n"
     ]
    }
   ],
   "source": [
    "set1 = {1,2,3,4,5,6}\n",
    "set2 = {4,5,6,7,8,9}\n",
    "unionset = set1.union(set2)\n",
    "print(unionset)"
   ]
  },
  {
   "cell_type": "markdown",
   "id": "2989dca3",
   "metadata": {},
   "source": [
    "# ✏️ شرح الكود:\n",
    "- الكود ده شغال على Set.\n"
   ]
  },
  {
   "cell_type": "code",
   "execution_count": 60,
   "id": "800dcd22-538e-413c-a671-137526f4fd85",
   "metadata": {},
   "outputs": [
    {
     "data": {
      "text/plain": [
       "{4, 5, 6}"
      ]
     },
     "execution_count": 60,
     "metadata": {},
     "output_type": "execute_result"
    }
   ],
   "source": [
    "intersection = set1.intersection(set2)\n",
    "intersection"
   ]
  },
  {
   "cell_type": "code",
   "execution_count": 61,
   "id": "f75d7d61-107a-46ed-afc6-29d8ae41ae32",
   "metadata": {},
   "outputs": [
    {
     "name": "stdout",
     "output_type": "stream",
     "text": [
      "{4, 5, 6}\n"
     ]
    }
   ],
   "source": [
    "set1.intersection_update(set2)\n",
    "print(set1)"
   ]
  },
  {
   "cell_type": "markdown",
   "id": "c5377fae",
   "metadata": {},
   "source": [
    "# ✏️ شرح الكود:\n"
   ]
  },
  {
   "cell_type": "code",
   "execution_count": 62,
   "id": "6437238f-62f0-4316-9ffe-8f181a7dc00d",
   "metadata": {},
   "outputs": [
    {
     "name": "stdout",
     "output_type": "stream",
     "text": [
      "set()\n"
     ]
    }
   ],
   "source": [
    "print(set1.difference(set2))"
   ]
  },
  {
   "cell_type": "markdown",
   "id": "77a77051",
   "metadata": {},
   "source": [
    "# ✏️ شرح الكود:\n"
   ]
  },
  {
   "cell_type": "code",
   "execution_count": 63,
   "id": "a4228a11-f326-4598-948d-90446ac748a7",
   "metadata": {},
   "outputs": [
    {
     "data": {
      "text/plain": [
       "{7, 8, 9}"
      ]
     },
     "execution_count": 63,
     "metadata": {},
     "output_type": "execute_result"
    }
   ],
   "source": [
    "set2.difference(set1)"
   ]
  },
  {
   "cell_type": "code",
   "execution_count": 64,
   "id": "a5d0365f-bbfa-4dc8-9f12-a3a2627f50ea",
   "metadata": {},
   "outputs": [
    {
     "data": {
      "text/plain": [
       "{7, 8, 9}"
      ]
     },
     "execution_count": 64,
     "metadata": {},
     "output_type": "execute_result"
    }
   ],
   "source": [
    "set1.symmetric_difference(set2)"
   ]
  },
  {
   "cell_type": "code",
   "execution_count": 65,
   "id": "f56bb70f-4146-4966-baab-67e0f25a0d1c",
   "metadata": {},
   "outputs": [
    {
     "name": "stdout",
     "output_type": "stream",
     "text": [
      "False\n"
     ]
    }
   ],
   "source": [
    "set1={1,2,3,4,5}\n",
    "set2={4,5,6}\n",
    "print(set1.issubset(set2))"
   ]
  },
  {
   "cell_type": "markdown",
   "id": "a171e064",
   "metadata": {},
   "source": [
    "# ✏️ شرح الكود:\n",
    "- الكود ده شغال على Set.\n"
   ]
  },
  {
   "cell_type": "code",
   "execution_count": 66,
   "id": "e9c963f6-94bd-4162-91fc-5a235a9c5f4c",
   "metadata": {},
   "outputs": [
    {
     "data": {
      "text/plain": [
       "False"
      ]
     },
     "execution_count": 66,
     "metadata": {},
     "output_type": "execute_result"
    }
   ],
   "source": [
    "set1.issuperset(set2)"
   ]
  },
  {
   "cell_type": "code",
   "execution_count": 67,
   "id": "e9811ced-b314-43a8-a0f4-fd24dd5275c2",
   "metadata": {},
   "outputs": [
    {
     "data": {
      "text/plain": [
       "{1, 2, 3, 4, 5}"
      ]
     },
     "execution_count": 67,
     "metadata": {},
     "output_type": "execute_result"
    }
   ],
   "source": [
    "lst = [1,2,3,4,5,4]\n",
    "set(lst)"
   ]
  },
  {
   "cell_type": "markdown",
   "id": "768abcc4",
   "metadata": {},
   "source": [
    "# ✏️ شرح الكود:\n",
    "- الكود هنا بيتعامل مع List.\n"
   ]
  },
  {
   "cell_type": "code",
   "execution_count": 68,
   "id": "04f0a1f2-507c-4a6b-ac17-4b0f3fd987fa",
   "metadata": {},
   "outputs": [
    {
     "name": "stdout",
     "output_type": "stream",
     "text": [
      "6\n"
     ]
    }
   ],
   "source": [
    "text = 'kariem mohamed samir abbas hafez eldeeb'\n",
    "words = text.split()\n",
    "unique_words=set(words)\n",
    "print(len(unique_words))"
   ]
  },
  {
   "cell_type": "markdown",
   "id": "090f457d",
   "metadata": {},
   "source": [
    "# ✏️ شرح الكود:\n"
   ]
  },
  {
   "cell_type": "code",
   "execution_count": 69,
   "id": "bf6d7bfb-31f2-4fb2-8878-13e36d502f5f",
   "metadata": {},
   "outputs": [
    {
     "data": {
      "text/plain": [
       "{'name': 'Kariem', 'age': 21, 'grade': 24}"
      ]
     },
     "execution_count": 69,
     "metadata": {},
     "output_type": "execute_result"
    }
   ],
   "source": [
    "student = {'name' : 'Kariem' , 'age' : 21 , 'grade' : 24}\n",
    "student"
   ]
  },
  {
   "cell_type": "markdown",
   "id": "22d6df3e",
   "metadata": {},
   "source": [
    "# ✏️ شرح الكود:\n",
    "- الكود هنا بيعرف Dictionary.\n"
   ]
  },
  {
   "cell_type": "code",
   "execution_count": 70,
   "id": "56aaacee-8e5a-4b20-93ce-7c92894852dc",
   "metadata": {},
   "outputs": [
    {
     "data": {
      "text/plain": [
       "dict"
      ]
     },
     "execution_count": 70,
     "metadata": {},
     "output_type": "execute_result"
    }
   ],
   "source": [
    "type(student)"
   ]
  },
  {
   "cell_type": "code",
   "execution_count": 71,
   "id": "cd2826ee-6dbf-4d36-a163-14222295425e",
   "metadata": {},
   "outputs": [
    {
     "data": {
      "text/plain": [
       "4"
      ]
     },
     "execution_count": 71,
     "metadata": {},
     "output_type": "execute_result"
    }
   ],
   "source": [
    "student = {'name' : 'Kariem' , 'age' : 21 , 'grade' : 4}\n",
    "student['grade']"
   ]
  },
  {
   "cell_type": "markdown",
   "id": "9eaca143",
   "metadata": {},
   "source": [
    "# ✏️ شرح الكود:\n",
    "- الكود هنا بيتعامل مع List.\n",
    "- الكود هنا بيعرف Dictionary.\n"
   ]
  },
  {
   "cell_type": "code",
   "execution_count": 72,
   "id": "a09e83c5-d16e-45ce-aee7-b20b884c7b49",
   "metadata": {},
   "outputs": [
    {
     "data": {
      "text/plain": [
       "4"
      ]
     },
     "execution_count": 72,
     "metadata": {},
     "output_type": "execute_result"
    }
   ],
   "source": [
    "student.get('grade')"
   ]
  },
  {
   "cell_type": "code",
   "execution_count": 73,
   "id": "92a3baea-aef8-47cc-8df3-4625a7e79912",
   "metadata": {},
   "outputs": [
    {
     "name": "stdout",
     "output_type": "stream",
     "text": [
      "{'name': 'Kariem', 'age': 21, 'grade': 4}\n"
     ]
    }
   ],
   "source": [
    "print(student)"
   ]
  },
  {
   "cell_type": "markdown",
   "id": "0c73fcc8",
   "metadata": {},
   "source": [
    "# ✏️ شرح الكود:\n"
   ]
  },
  {
   "cell_type": "code",
   "execution_count": 74,
   "id": "3dec21a7-3814-48ea-89ec-a2bdce405a4f",
   "metadata": {},
   "outputs": [
    {
     "data": {
      "text/plain": [
       "{'name': 'Kariem', 'age': 33, 'grade': 4, 'address': 'Egypt'}"
      ]
     },
     "execution_count": 74,
     "metadata": {},
     "output_type": "execute_result"
    }
   ],
   "source": [
    "student['age']=33\n",
    "student['address']='Egypt'\n",
    "student"
   ]
  },
  {
   "cell_type": "markdown",
   "id": "2c3c2b5c",
   "metadata": {},
   "source": [
    "# ✏️ شرح الكود:\n",
    "- الكود هنا بيتعامل مع List.\n"
   ]
  },
  {
   "cell_type": "code",
   "execution_count": 75,
   "id": "022cb96e-4355-456e-9a6d-9148b0022f50",
   "metadata": {},
   "outputs": [
    {
     "data": {
      "text/plain": [
       "{'name': 'Kariem', 'age': 33, 'address': 'Egypt'}"
      ]
     },
     "execution_count": 75,
     "metadata": {},
     "output_type": "execute_result"
    }
   ],
   "source": [
    "del student['grade']\n",
    "student"
   ]
  },
  {
   "cell_type": "markdown",
   "id": "9419a426",
   "metadata": {},
   "source": [
    "# ✏️ شرح الكود:\n",
    "- الكود هنا بيتعامل مع List.\n"
   ]
  },
  {
   "cell_type": "code",
   "execution_count": 76,
   "id": "dab907fe-b6fa-49e1-a5cb-8e37d7f73da0",
   "metadata": {},
   "outputs": [
    {
     "name": "stdout",
     "output_type": "stream",
     "text": [
      "dict_keys(['name', 'age', 'address'])\n",
      "dict_values(['Kariem', 33, 'Egypt'])\n",
      "dict_items([('name', 'Kariem'), ('age', 33), ('address', 'Egypt')])\n"
     ]
    }
   ],
   "source": [
    "keys = student.keys()\n",
    "print(keys)\n",
    "values = student.values()\n",
    "print(values)\n",
    "items = student.items()\n",
    "print(items)"
   ]
  },
  {
   "cell_type": "markdown",
   "id": "2cbeec15",
   "metadata": {},
   "source": [
    "# ✏️ شرح الكود:\n"
   ]
  },
  {
   "cell_type": "code",
   "execution_count": 77,
   "id": "d3e0d517-0489-40e5-ae01-21f6029c40de",
   "metadata": {},
   "outputs": [
    {
     "name": "stdout",
     "output_type": "stream",
     "text": [
      "{'name': 'Kariem', 'age': 33, 'address': 'Egypt'}\n",
      "{'name': 'Kariem', 'age': 33, 'address': 'Egypt'}\n"
     ]
    }
   ],
   "source": [
    "student_copy = student\n",
    "print(student)\n",
    "print(student_copy)"
   ]
  },
  {
   "cell_type": "markdown",
   "id": "f286b878",
   "metadata": {},
   "source": [
    "# ✏️ شرح الكود:\n"
   ]
  },
  {
   "cell_type": "code",
   "execution_count": 78,
   "id": "31fb7bbb-5144-4e1b-b9da-c4fa1fb14b78",
   "metadata": {},
   "outputs": [
    {
     "name": "stdout",
     "output_type": "stream",
     "text": [
      "{'name': 'Mohamed', 'age': 33, 'address': 'Egypt'}\n",
      "{'name': 'Mohamed', 'age': 33, 'address': 'Egypt'}\n"
     ]
    }
   ],
   "source": [
    "student['name']='Mohamed'\n",
    "print(student)\n",
    "print(student_copy)"
   ]
  },
  {
   "cell_type": "markdown",
   "id": "51731528",
   "metadata": {},
   "source": [
    "# ✏️ شرح الكود:\n",
    "- الكود هنا بيتعامل مع List.\n"
   ]
  },
  {
   "cell_type": "code",
   "execution_count": 79,
   "id": "8f754db3-6005-4240-af4d-37406742f9b4",
   "metadata": {},
   "outputs": [
    {
     "name": "stdout",
     "output_type": "stream",
     "text": [
      "{'name': 'Mohamed', 'age': 33, 'address': 'Egypt'}\n",
      "{'name': 'Mohamed', 'age': 33, 'address': 'Egypt'}\n"
     ]
    }
   ],
   "source": [
    "student_copy1 = student.copy()\n",
    "print(student_copy1)\n",
    "print(student)"
   ]
  },
  {
   "cell_type": "markdown",
   "id": "ad4f539f",
   "metadata": {},
   "source": [
    "# ✏️ شرح الكود:\n"
   ]
  },
  {
   "cell_type": "code",
   "execution_count": 80,
   "id": "cd73941d-56b2-48d2-9a64-4f7ad1058f37",
   "metadata": {},
   "outputs": [
    {
     "name": "stdout",
     "output_type": "stream",
     "text": [
      "{'name': 'Mohamed', 'age': 33, 'address': 'Egypt'}\n",
      "{'name': 'samir', 'age': 33, 'address': 'Egypt'}\n"
     ]
    }
   ],
   "source": [
    "student['name'] = 'samir'\n",
    "print(student_copy1)\n",
    "print(student)"
   ]
  },
  {
   "cell_type": "markdown",
   "id": "07bcaf86",
   "metadata": {},
   "source": [
    "# ✏️ شرح الكود:\n",
    "- الكود هنا بيتعامل مع List.\n"
   ]
  },
  {
   "cell_type": "code",
   "execution_count": 81,
   "id": "1ee1cf27-f413-4279-b40c-bee05c5e5f9c",
   "metadata": {},
   "outputs": [
    {
     "name": "stdout",
     "output_type": "stream",
     "text": [
      "name\n",
      "age\n",
      "address\n"
     ]
    }
   ],
   "source": [
    "for keys in student.keys():\n",
    "    print(keys)"
   ]
  },
  {
   "cell_type": "markdown",
   "id": "069df246",
   "metadata": {},
   "source": [
    "# ✏️ شرح الكود:\n"
   ]
  },
  {
   "cell_type": "code",
   "execution_count": 82,
   "id": "23cc5dee-7c74-4e19-be1f-915324a272f7",
   "metadata": {},
   "outputs": [
    {
     "name": "stdout",
     "output_type": "stream",
     "text": [
      "name:samir\n",
      "age:33\n",
      "address:Egypt\n"
     ]
    }
   ],
   "source": [
    "for key,value in student.items():\n",
    "    print(f'{key}:{value}')"
   ]
  },
  {
   "cell_type": "markdown",
   "id": "e4320a7a",
   "metadata": {},
   "source": [
    "# ✏️ شرح الكود:\n",
    "- الكود هنا بيعرف Dictionary.\n"
   ]
  },
  {
   "cell_type": "code",
   "execution_count": 83,
   "id": "9817895e-7759-4026-a852-fe183ed02ed9",
   "metadata": {},
   "outputs": [
    {
     "name": "stdout",
     "output_type": "stream",
     "text": [
      "{'student1': {'name': 'kariem', 'age': 21}, 'student2': {'name': 'mohamed', 'age': 49}}\n"
     ]
    }
   ],
   "source": [
    "students = {\n",
    "    'student1' : {'name':'kariem','age' : 21},\n",
    "    'student2' : {'name':'mohamed','age' : 49}\n",
    "}\n",
    "print(students)"
   ]
  },
  {
   "cell_type": "markdown",
   "id": "dc9ec952",
   "metadata": {},
   "source": [
    "# ✏️ شرح الكود:\n",
    "- الكود هنا بيعرف Dictionary.\n"
   ]
  },
  {
   "cell_type": "code",
   "execution_count": 84,
   "id": "8eba6fa5-0054-4103-b558-227902d1f7cf",
   "metadata": {},
   "outputs": [
    {
     "name": "stdout",
     "output_type": "stream",
     "text": [
      "mohamed\n"
     ]
    }
   ],
   "source": [
    "print(students['student2']['name'])"
   ]
  },
  {
   "cell_type": "markdown",
   "id": "9da6ba6c",
   "metadata": {},
   "source": [
    "# ✏️ شرح الكود:\n",
    "- الكود هنا بيتعامل مع List.\n"
   ]
  },
  {
   "cell_type": "code",
   "execution_count": 85,
   "id": "330029ca-a74d-4616-b639-f790a54f57b9",
   "metadata": {},
   "outputs": [
    {
     "name": "stdout",
     "output_type": "stream",
     "text": [
      "student1:{'name': 'kariem', 'age': 21}\n",
      "name:kariem\n",
      "age:21\n",
      "student2:{'name': 'mohamed', 'age': 49}\n",
      "name:mohamed\n",
      "age:49\n"
     ]
    }
   ],
   "source": [
    "for studentid,studentinfo in students.items():\n",
    "    print(f'{studentid}:{studentinfo}')\n",
    "    for key,value in studentinfo.items():\n",
    "        print(f'{key}:{value}')"
   ]
  },
  {
   "cell_type": "markdown",
   "id": "48617e48",
   "metadata": {},
   "source": [
    "# ✏️ شرح الكود:\n",
    "- الكود هنا بيعرف Dictionary.\n"
   ]
  },
  {
   "cell_type": "code",
   "execution_count": 86,
   "id": "fd9bec97-ce86-46de-8681-fb79cdd5a7a1",
   "metadata": {},
   "outputs": [
    {
     "name": "stdout",
     "output_type": "stream",
     "text": [
      "{0: 0, 1: 1, 2: 4, 3: 9, 4: 16}\n"
     ]
    }
   ],
   "source": [
    "squares = {x:x**2 for x in range(5)}\n",
    "print(squares)"
   ]
  },
  {
   "cell_type": "markdown",
   "id": "953059e1",
   "metadata": {},
   "source": [
    "# ✏️ شرح الكود:\n",
    "- الكود هنا بيعرف Dictionary.\n"
   ]
  },
  {
   "cell_type": "code",
   "execution_count": 87,
   "id": "0fe310a7-693c-4bf7-a1a0-0490912b1302",
   "metadata": {},
   "outputs": [
    {
     "name": "stdout",
     "output_type": "stream",
     "text": [
      "{0: 0, 2: 4, 4: 16, 6: 36, 8: 64}\n"
     ]
    }
   ],
   "source": [
    "evens = {x:x**2 for x in range(10) if x%2==0}\n",
    "print(evens)"
   ]
  },
  {
   "cell_type": "markdown",
   "id": "932616a9",
   "metadata": {},
   "source": [
    "# ✏️ شرح الكود:\n",
    "- الكود هنا بيعرف Dictionary.\n"
   ]
  },
  {
   "cell_type": "code",
   "execution_count": 88,
   "id": "da059a37-3521-46fd-b118-900ec3b1cd70",
   "metadata": {},
   "outputs": [
    {
     "name": "stdout",
     "output_type": "stream",
     "text": [
      "{1: 1, 2: 2, 3: 3, 4: 4}\n"
     ]
    }
   ],
   "source": [
    "numbers = [1,2,2,3,3,3,4,4,4,4]\n",
    "frequency = {}\n",
    "for number in numbers:\n",
    "    if number in frequency:\n",
    "        frequency[number]+=1\n",
    "    else:\n",
    "        frequency[number]=1\n",
    "print(frequency)"
   ]
  },
  {
   "cell_type": "markdown",
   "id": "b7ac8bef",
   "metadata": {},
   "source": [
    "# ✏️ شرح الكود:\n",
    "- الكود هنا بيتعامل مع List.\n",
    "- الكود ده شغال على Set.\n"
   ]
  },
  {
   "cell_type": "code",
   "execution_count": 89,
   "id": "fcdcab1f-0002-40be-a07f-f28aa88c8e81",
   "metadata": {},
   "outputs": [
    {
     "name": "stdout",
     "output_type": "stream",
     "text": [
      "{'a': 1, 'b': 3, 'c': 4}\n"
     ]
    }
   ],
   "source": [
    "dict1 ={'a':1,'b':2}\n",
    "dict2 = {'b':3,'c':4}\n",
    "merged_dict={**dict1,**dict2}\n",
    "print(merged_dict)"
   ]
  },
  {
   "cell_type": "markdown",
   "id": "c2443800",
   "metadata": {},
   "source": [
    "# ✏️ شرح الكود:\n",
    "- الكود ده شغال على Set.\n",
    "- الكود هنا بيعرف Dictionary.\n"
   ]
  },
  {
   "cell_type": "code",
   "execution_count": 90,
   "id": "0fef9a35-626a-4cdf-b1ce-9fed4062d3ad",
   "metadata": {},
   "outputs": [
    {
     "name": "stdout",
     "output_type": "stream",
     "text": [
      "Do not forget to pay the utility bills\n",
      "To Do List remaining\n",
      "- Pay bills\n",
      "- Schudle meeting\n",
      "- Go For a Run\n"
     ]
    }
   ],
   "source": [
    "to_do_list = ['Clean the house','Pay bills']\n",
    "to_do_list.append('Schudle meeting')\n",
    "to_do_list.append('Go For a Run')\n",
    "to_do_list.remove('Clean the house')\n",
    "if 'Pay bills' in to_do_list:\n",
    "    print('Do not forget to pay the utility bills')\n",
    "print('To Do List remaining')\n",
    "for task in to_do_list:\n",
    "    print(f'- {task}')"
   ]
  },
  {
   "cell_type": "markdown",
   "id": "9cdd4052",
   "metadata": {},
   "source": [
    "# ✏️ شرح الكود:\n",
    "- الكود هنا بيتعامل مع List.\n",
    "- الكود ده شغال على Set.\n"
   ]
  },
  {
   "cell_type": "code",
   "execution_count": 1,
   "id": "9f755ae1-89cf-4152-b2fa-182c97c95061",
   "metadata": {},
   "outputs": [
    {
     "name": "stdout",
     "output_type": "stream",
     "text": [
      "[1, 2, 3, 4, 5, 6]\n"
     ]
    }
   ],
   "source": [
    "mylist = [1,2,3,4,5,6]\n",
    "print(mylist)"
   ]
  },
  {
   "cell_type": "code",
   "execution_count": 2,
   "id": "5fba21af-429e-4f39-a67a-5af4d2209170",
   "metadata": {},
   "outputs": [
    {
     "name": "stdout",
     "output_type": "stream",
     "text": [
      "<class 'list_iterator'>\n"
     ]
    }
   ],
   "source": [
    "iterator = iter(mylist)\n",
    "print(type(iterator))"
   ]
  },
  {
   "cell_type": "code",
   "execution_count": 3,
   "id": "283ea0aa-382a-4150-a8c1-59679da6c67f",
   "metadata": {},
   "outputs": [
    {
     "data": {
      "text/plain": [
       "<list_iterator at 0x25d07cc00a0>"
      ]
     },
     "execution_count": 3,
     "metadata": {},
     "output_type": "execute_result"
    }
   ],
   "source": [
    "iterator"
   ]
  },
  {
   "cell_type": "code",
   "execution_count": 4,
   "id": "05a98304-0883-453c-af8a-4e0aa7290fc5",
   "metadata": {},
   "outputs": [
    {
     "data": {
      "text/plain": [
       "1"
      ]
     },
     "execution_count": 4,
     "metadata": {},
     "output_type": "execute_result"
    }
   ],
   "source": [
    "next(iterator)"
   ]
  },
  {
   "cell_type": "code",
   "execution_count": 11,
   "id": "af25200b-b326-49bf-b566-cdc166e44af3",
   "metadata": {},
   "outputs": [
    {
     "name": "stdout",
     "output_type": "stream",
     "text": [
      "There are no element\n"
     ]
    }
   ],
   "source": [
    "try:\n",
    "    print(next(iterator))\n",
    "except StopIteration:\n",
    "    print('There are no element')"
   ]
  },
  {
   "cell_type": "code",
   "execution_count": 15,
   "id": "8c7f8b3b-ad0c-4ca1-aa9c-b56d57f23b0f",
   "metadata": {},
   "outputs": [
    {
     "data": {
      "text/plain": [
       "<generator object square at 0x0000025D07BF3100>"
      ]
     },
     "execution_count": 15,
     "metadata": {},
     "output_type": "execute_result"
    }
   ],
   "source": [
    "def square(n):\n",
    "    for i in range(3):\n",
    "        yield i **2 \n",
    "square(2)"
   ]
  },
  {
   "cell_type": "code",
   "execution_count": 16,
   "id": "be2312f3-6d17-41bc-ad12-9c91e70d4b47",
   "metadata": {},
   "outputs": [
    {
     "name": "stdout",
     "output_type": "stream",
     "text": [
      "0\n",
      "1\n",
      "4\n"
     ]
    }
   ],
   "source": [
    "for i in square(3):\n",
    "    print(i)"
   ]
  },
  {
   "cell_type": "code",
   "execution_count": 18,
   "id": "b938608b-4c4b-4639-a2e6-ffc61aeabad5",
   "metadata": {},
   "outputs": [
    {
     "data": {
      "text/plain": [
       "0"
      ]
     },
     "execution_count": 18,
     "metadata": {},
     "output_type": "execute_result"
    }
   ],
   "source": [
    "a = square(3)\n",
    "\n",
    "next(a)"
   ]
  },
  {
   "cell_type": "code",
   "execution_count": 19,
   "id": "6c12894e-6fcd-42bf-869d-bac2d12ce093",
   "metadata": {},
   "outputs": [
    {
     "data": {
      "text/plain": [
       "<generator object square at 0x0000025D07BF13C0>"
      ]
     },
     "execution_count": 19,
     "metadata": {},
     "output_type": "execute_result"
    }
   ],
   "source": [
    "a"
   ]
  },
  {
   "cell_type": "code",
   "execution_count": 20,
   "id": "5af6b2eb-2ca1-4cfb-89d1-bca03ff884fa",
   "metadata": {},
   "outputs": [],
   "source": [
    "def my_generator():\n",
    "    yield 1\n",
    "    yield 2\n",
    "    yield 3\n"
   ]
  },
  {
   "cell_type": "code",
   "execution_count": 24,
   "id": "aa139d82-b651-4b6d-9589-a3d1f62735d3",
   "metadata": {},
   "outputs": [
    {
     "data": {
      "text/plain": [
       "<generator object my_generator at 0x0000025D08BD4B40>"
      ]
     },
     "execution_count": 24,
     "metadata": {},
     "output_type": "execute_result"
    }
   ],
   "source": [
    "gen = my_generator()\n",
    "gen"
   ]
  },
  {
   "cell_type": "code",
   "execution_count": null,
   "id": "6eb8747a-8880-4ebe-9769-45ce265bd55c",
   "metadata": {},
   "outputs": [],
   "source": []
  },
  {
   "cell_type": "code",
   "execution_count": null,
   "id": "b710cfd4-ad7f-49a7-be02-cd8044cadc60",
   "metadata": {},
   "outputs": [],
   "source": [
    "\n"
   ]
  },
  {
   "cell_type": "markdown",
   "id": "077bd864",
   "metadata": {},
   "source": [
    "## 🔁 Iteration (التكرار)\n",
    "في البرمجة، التكرار هو إنك تنفذ نفس الكود كذا مرة. في بايثون عندنا نوعين رئيسيين:\n",
    "\n",
    "- `for` loop ➜ لما تبقى عارف عدد التكرارات.\n",
    "- `while` loop ➜ لما التكرار مستمر لحد شرط معين يتحقق."
   ]
  },
  {
   "cell_type": "code",
   "execution_count": null,
   "id": "ab413bed",
   "metadata": {},
   "outputs": [],
   "source": [
    "# مثال على for loop:\n",
    "names = [\"Ali\", \"Nada\", \"Kareem\"]\n",
    "for name in names:\n",
    "    print(f\"أهلا يا {name}\")\n",
    "\n",
    "# مثال على while loop:\n",
    "i = 0\n",
    "while i < 3:\n",
    "    print(f\"الرقم هو {i}\")\n",
    "    i += 1"
   ]
  },
  {
   "cell_type": "markdown",
   "id": "5e7ae066",
   "metadata": {},
   "source": [
    "## 📋 Function Copy (نسخ الدوال)\n",
    "في بايثون، تقدر تتعامل مع الدالة كأنها متغير — يعني تقدر تنسخها وتحطها في متغير تاني وتستدعيها من خلاله."
   ]
  },
  {
   "cell_type": "code",
   "execution_count": null,
   "id": "7fba0e35",
   "metadata": {},
   "outputs": [],
   "source": [
    "def say_hello():\n",
    "    print(\"أهلاً بيك!\")\n",
    "\n",
    "# ننسخ الدالة\n",
    "greet = say_hello\n",
    "\n",
    "# نستخدم النسخة\n",
    "greet()"
   ]
  },
  {
   "cell_type": "markdown",
   "id": "367269ad",
   "metadata": {},
   "source": [
    "## 🔒 Closures & 🎨 Decorators\n",
    "### 🧤 Closures (الإغلاق)\n",
    "يعني دالة جوا دالة وتقدر الدالة الداخلية تستخدم متغيرات من الدالة اللي برة حتى بعد ما تخلص.\n",
    "\n",
    "### 🎨 Decorators (الديكوريترز)\n",
    "هي دوال بتلف حوالين دوال تانية علشان تضيفلها وظايف زيادة من غير ما تعدّل الكود الأصلي."
   ]
  },
  {
   "cell_type": "code",
   "execution_count": null,
   "id": "93777fd0",
   "metadata": {},
   "outputs": [],
   "source": [
    "# Closure example\n",
    "def outer():\n",
    "    message = \"بايثون حلوة\"\n",
    "    def inner():\n",
    "        print(message)\n",
    "    return inner\n",
    "\n",
    "my_func = outer()\n",
    "my_func()\n",
    "\n",
    "# Decorator example\n",
    "def decorator(func):\n",
    "    def wrapper():\n",
    "        print(\"قبل الدالة\")\n",
    "        func()\n",
    "        print(\"بعد الدالة\")\n",
    "    return wrapper\n",
    "\n",
    "@decorator\n",
    "def greet():\n",
    "    print(\"أهلاً!\")\n",
    "\n",
    "greet()"
   ]
  },
  {
   "cell_type": "markdown",
   "id": "d71d2307",
   "metadata": {},
   "source": [
    "## ⚙️ Generators (المولدات)\n",
    "الـ Generators بتسمحلك تولّد بيانات واحدة واحدة بدل ما تخزنها كلها مرة واحدة — مفيدة جدًا لو معاك كمية بيانات كبيرة."
   ]
  },
  {
   "cell_type": "code",
   "execution_count": null,
   "id": "613961b4",
   "metadata": {},
   "outputs": [],
   "source": [
    "def count_up_to(n):\n",
    "    i = 1\n",
    "    while i <= n:\n",
    "        yield i\n",
    "        i += 1\n",
    "\n",
    "for number in count_up_to(5):\n",
    "    print(number)"
   ]
  }
 ],
 "metadata": {
  "kernelspec": {
   "display_name": "Python 3 (ipykernel)",
   "language": "python",
   "name": "python3"
  },
  "language_info": {
   "codemirror_mode": {
    "name": "ipython",
    "version": 3
   },
   "file_extension": ".py",
   "mimetype": "text/x-python",
   "name": "python",
   "nbconvert_exporter": "python",
   "pygments_lexer": "ipython3",
   "version": "3.12.6"
  }
 },
 "nbformat": 4,
 "nbformat_minor": 5
}
